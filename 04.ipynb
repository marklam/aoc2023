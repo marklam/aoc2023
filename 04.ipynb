{
 "cells": [
  {
   "cell_type": "markdown",
   "metadata": {},
   "source": [
    "# Day 4\n",
    "## Part 1"
   ]
  },
  {
   "cell_type": "code",
   "execution_count": 2,
   "metadata": {
    "dotnet_interactive": {
     "language": "fsharp"
    },
    "polyglot_notebook": {
     "kernelName": "fsharp"
    }
   },
   "outputs": [],
   "source": [
    "let parseNumbers (numbers : string) =\n",
    "    numbers.Split(' ', StringSplitOptions.RemoveEmptyEntries)\n",
    "    |> Array.map int\n",
    "\n",
    "type Card = { Number : int; Winners : Set<int>; Randoms : Set<int> }\n",
    "\n",
    "let parseCard (line : string) =\n",
    "    let sections = line.Split [| ':'; '|' |]\n",
    "    let number = sections[0].Split([| ' ' |], StringSplitOptions.RemoveEmptyEntries) |> Array.item 1 |> int\n",
    "    let winners = parseNumbers sections[1] |> Set.ofArray\n",
    "    let randoms = parseNumbers sections[2] |> Set.ofArray\n",
    "    { Number = number; Winners = winners; Randoms = randoms }\n",
    "\n",
    "let scoreCard (card : Card) =\n",
    "    let winningNumbers = Set.intersect card.Winners card.Randoms\n",
    "    match winningNumbers.Count with \n",
    "    | 0 -> 0\n",
    "    | n -> 1 <<< (n-1)\n"
   ]
  },
  {
   "cell_type": "code",
   "execution_count": 3,
   "metadata": {
    "dotnet_interactive": {
     "language": "fsharp"
    },
    "polyglot_notebook": {
     "kernelName": "fsharp"
    }
   },
   "outputs": [
    {
     "data": {
      "text/html": [
       "<div><div></div><div></div><div><strong>Installed Packages</strong><ul><li><span>FsUnit.xUnit, 5.6.1</span></li></ul></div></div>"
      ]
     },
     "metadata": {},
     "output_type": "display_data"
    }
   ],
   "source": [
    "#r \"nuget: FsUnit.xUnit\"\n",
    "open FsUnitTyped\n",
    "\n",
    "let testData = \n",
    "    [\n",
    "        \"Card 1: 41 48 83 86 17 | 83 86  6 31 17  9 48 53\"\n",
    "        \"Card 2: 13 32 20 16 61 | 61 30 68 82 17 32 24 19\"\n",
    "        \"Card 3:  1 21 53 59 44 | 69 82 63 72 16 21 14  1\"\n",
    "        \"Card 4: 41 92 73 84 69 | 59 84 76 51 58  5 54 83\"\n",
    "        \"Card 5: 87 83 26 28 32 | 88 30 70 12 93 22 82 36\"\n",
    "        \"Card 6: 31 18 13 56 72 | 74 77 10 23 35 67 36 11\"\n",
    "    ]   \n",
    "\n",
    "let testScore =\n",
    "    testData \n",
    "    |> List.map parseCard \n",
    "    |> List.sumBy scoreCard   \n",
    "\n",
    "testScore |> shouldEqual 13  "
   ]
  },
  {
   "cell_type": "code",
   "execution_count": 4,
   "metadata": {
    "dotnet_interactive": {
     "language": "fsharp"
    },
    "polyglot_notebook": {
     "kernelName": "fsharp"
    }
   },
   "outputs": [],
   "source": [
    "open System.IO\n",
    "let input = File.ReadAllLines \"input_04.txt\"\n",
    "\n",
    "let result1 =\n",
    "    input\n",
    "    |> Array.map parseCard \n",
    "    |> Array.sumBy scoreCard   \n"
   ]
  },
  {
   "cell_type": "code",
   "execution_count": 5,
   "metadata": {
    "dotnet_interactive": {
     "language": "fsharp"
    },
    "polyglot_notebook": {
     "kernelName": "fsharp"
    }
   },
   "outputs": [
    {
     "name": "stdout",
     "output_type": "stream",
     "text": [
      "Result 1: 20829\n"
     ]
    }
   ],
   "source": [
    "printfn \"Result 1: %d\" result1\n",
    "result1 |> shouldEqual 20829 // In case I break it"
   ]
  },
  {
   "cell_type": "markdown",
   "metadata": {},
   "source": [
    "## Part 2"
   ]
  },
  {
   "cell_type": "code",
   "execution_count": 13,
   "metadata": {
    "dotnet_interactive": {
     "language": "fsharp"
    },
    "polyglot_notebook": {
     "kernelName": "fsharp"
    }
   },
   "outputs": [],
   "source": [
    "let numberedCards input =\n",
    "    input\n",
    "    |> Seq.mapi (fun i c -> (i+1), (parseCard c))\n",
    "    |> Map.ofSeq\n",
    "\n",
    "let winCards (card : Card) =\n",
    "    Set.intersect card.Winners card.Randoms\n",
    "    |> Set.count\n",
    "\n",
    "let processCards input =\n",
    "    let numberedCards = numberedCards input\n",
    "\n",
    "    let rec processCard (cardsToDo : Card list) (cardCounts : Map<int, int>) =\n",
    "        match cardsToDo with\n",
    "        | [] -> cardCounts\n",
    "        | (card::rest) ->\n",
    "            let copies = cardCounts[card.Number]\n",
    "            \n",
    "            let cardCounts = \n",
    "                List.init (winCards card) (fun i -> card.Number + 1 + i)\n",
    "                |> List.fold (\n",
    "                    fun counts n -> \n",
    "                        let c = counts |> Map.find n\n",
    "                        counts |> Map.add n (c+copies)\n",
    "                    ) cardCounts\n",
    "            processCard rest cardCounts\n",
    "\n",
    "    let cardCounts = numberedCards.Values |> Seq.map (fun c -> c.Number, 1) |> Map.ofSeq\n",
    "    processCard (List.ofSeq numberedCards.Values) cardCounts\n",
    "    |> Map.values\n",
    "    |> Seq.sum\n",
    "    "
   ]
  },
  {
   "cell_type": "code",
   "execution_count": 14,
   "metadata": {
    "dotnet_interactive": {
     "language": "fsharp"
    },
    "polyglot_notebook": {
     "kernelName": "fsharp"
    }
   },
   "outputs": [],
   "source": [
    "let test2 = processCards testData\n",
    "test2 |> shouldEqual 30"
   ]
  },
  {
   "cell_type": "code",
   "execution_count": 16,
   "metadata": {
    "dotnet_interactive": {
     "language": "fsharp"
    },
    "polyglot_notebook": {
     "kernelName": "fsharp"
    }
   },
   "outputs": [
    {
     "name": "stdout",
     "output_type": "stream",
     "text": [
      "Result 2: 12648035\n"
     ]
    }
   ],
   "source": [
    "let result2 = processCards input\n",
    "printfn \"Result 2: %d\" result2\n",
    "result2 |> shouldEqual 12648035 // In case I break it"
   ]
  }
 ],
 "metadata": {
  "kernelspec": {
   "display_name": ".NET (F#)",
   "language": "F#",
   "name": ".net-fsharp"
  },
  "language_info": {
   "name": "polyglot-notebook"
  },
  "polyglot_notebook": {
   "kernelInfo": {
    "defaultKernelName": "fsharp",
    "items": [
     {
      "aliases": [],
      "languageName": "fsharp",
      "name": "fsharp"
     }
    ]
   }
  }
 },
 "nbformat": 4,
 "nbformat_minor": 2
}
