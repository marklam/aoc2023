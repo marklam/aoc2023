{
 "cells": [
  {
   "cell_type": "markdown",
   "metadata": {},
   "source": [
    "# Day 5\n",
    "## Part 1"
   ]
  },
  {
   "cell_type": "code",
   "execution_count": 1,
   "metadata": {
    "dotnet_interactive": {
     "language": "fsharp"
    },
    "polyglot_notebook": {
     "kernelName": "fsharp"
    }
   },
   "outputs": [
    {
     "data": {
      "text/html": [
       "<div><div></div><div></div><div><strong>Installed Packages</strong><ul><li><span>FSharp.UMX, 1.1.0</span></li></ul></div></div>"
      ]
     },
     "metadata": {},
     "output_type": "display_data"
    }
   ],
   "source": [
    "#r \"nuget: FSharp.UMX\"\n",
    "\n",
    "open FSharp.UMX\n",
    "\n",
    "type [<Measure>] seed\n",
    "type [<Measure>] soil\n",
    "type [<Measure>] fertilizer\n",
    "type [<Measure>] water\n",
    "type [<Measure>] light\n",
    "type [<Measure>] temperature\n",
    "type [<Measure>] humidity\n",
    "type [<Measure>] location\n",
    "\n",
    "type MapRange<[<Measure>]'source, [<Measure>]'destination> = \n",
    "    { DestinationStart : int64<'destination>; SourceStart : int64<'source>; RangeSize : int64 }\n",
    "\n",
    "type InputSection =\n",
    "    | SeedList of list<int64<seed>>\n",
    "    | SeedToSoilMap of MapRange<seed, soil>[]\n",
    "    | SoilToFertilizerMap of MapRange<soil, fertilizer>[]\n",
    "    | FertilizerToWaterMap of MapRange<fertilizer, water>[]\n",
    "    | WaterToLightMap of MapRange<water, light>[]\n",
    "    | LightToTemperatureMap of MapRange<light, temperature>[]\n",
    "    | TemperatureToHumidityMap of MapRange<temperature, humidity>[]\n",
    "    | HumidityToLocationMap of MapRange<humidity, location>[]\n",
    "\n"
   ]
  },
  {
   "cell_type": "code",
   "execution_count": 2,
   "metadata": {
    "dotnet_interactive": {
     "language": "fsharp"
    },
    "polyglot_notebook": {
     "kernelName": "fsharp"
    }
   },
   "outputs": [
    {
     "data": {
      "text/html": [
       "<div><div></div><div></div><div><strong>Installed Packages</strong><ul><li><span>FParsec, 1.1.1</span></li></ul></div></div>"
      ]
     },
     "metadata": {},
     "output_type": "display_data"
    }
   ],
   "source": [
    "#r \"nuget:FParsec\"\n",
    "\n",
    "open FParsec\n",
    "\n",
    "let space = pchar ' '\n",
    "let newline = pchar '\\n'\n",
    "let int_list = sepBy pint64 space\n",
    "let seedList = \n",
    "    (pstring \"seeds: \" >>. int_list .>> newline)\n",
    "    |>> List.map UMX.tag<seed>\n",
    "    |>> SeedList\n",
    "\n",
    "let inline map_line<[<Measure>]'source, [<Measure>]'destination> = \n",
    "    pint64 .>> space .>>. pint64 .>> space .>>. pint64\n",
    "    |>> fun ((a,b),c) -> { DestinationStart = UMX.tag<'destination> a; SourceStart = UMX.tag<'source> b; RangeSize = c }\n",
    "\n",
    "let mapOrder (r : MapRange<'source, 'destination>) = r.SourceStart\n",
    "\n",
    "let inline sortMap (ranges : MapRange<'source, 'destination> list) = \n",
    "    ranges\n",
    "    |> List.sortBy mapOrder\n",
    "    |> Array.ofList\n",
    "\n",
    "let seedToSoil = \n",
    "    (pstring \"seed-to-soil map:\" >>. newline >>. sepEndBy1 map_line<seed,soil> newline)\n",
    "    |>> (sortMap >> SeedToSoilMap)\n",
    "\n",
    "let soilToFertilizer = \n",
    "    (pstring \"soil-to-fertilizer map:\" >>. newline >>. sepEndBy1 map_line<soil, fertilizer> newline)\n",
    "    |>> (sortMap >> SoilToFertilizerMap)\n",
    "\n",
    "let fertilizerToWater = \n",
    "    (pstring \"fertilizer-to-water map:\" >>. newline >>. sepEndBy1 map_line<fertilizer, water> newline)\n",
    "    |>> (sortMap >> FertilizerToWaterMap)\n",
    "\n",
    "let waterToLight =\n",
    "    (pstring \"water-to-light map:\" >>. newline >>. sepEndBy1 map_line<water, light> newline)\n",
    "    |>> (sortMap >> WaterToLightMap)\n",
    "\n",
    "let lightToTemperature =\n",
    "    (pstring \"light-to-temperature map:\" >>. newline >>. sepEndBy1 map_line<light, temperature> newline)\n",
    "    |>> (sortMap >> LightToTemperatureMap)\n",
    "\n",
    "let temperatureToHumidity =\n",
    "    (pstring \"temperature-to-humidity map:\" >>. newline >>. sepEndBy1 map_line<temperature, humidity> newline)\n",
    "    |>> (sortMap >> TemperatureToHumidityMap)\n",
    "\n",
    "let humidityToLocation =\n",
    "    (pstring \"humidity-to-location map:\" >>. newline >>. sepEndBy1 map_line<humidity, location> newline)\n",
    "    |>> (sortMap >> HumidityToLocationMap)\n",
    "\n",
    "let section =\n",
    "    seedList <|>\n",
    "    seedToSoil <|>\n",
    "    soilToFertilizer <|>\n",
    "    fertilizerToWater <|>\n",
    "    waterToLight <|>\n",
    "    lightToTemperature <|>\n",
    "    temperatureToHumidity <|>\n",
    "    humidityToLocation\n",
    "\n",
    "let sections : Parser<InputSection list, unit> = sepBy section newline\n"
   ]
  },
  {
   "cell_type": "code",
   "execution_count": 3,
   "metadata": {
    "dotnet_interactive": {
     "language": "fsharp"
    },
    "polyglot_notebook": {
     "kernelName": "fsharp"
    }
   },
   "outputs": [],
   "source": [
    "open System\n",
    "open System.Collections\n",
    "\n",
    "type BinarySearchIndex = | Match of int | BeforeFirst | AfterLast of int | Between of int * int\n",
    "\n",
    "let binarySearchBy<'T,'U when 'U :> IComparable<'U>> (sel : 'T -> 'U) (x:'U) (values:'T[]) =\n",
    "    let compare = System.Collections.Generic.GenericComparer<'U>.Default.Compare\n",
    "    let comparer = { new IComparer with member __.Compare(a, b) = compare (a :?> 'T |> sel, x) }\n",
    "    let i = Array.BinarySearch(values, x, comparer)\n",
    "    if i >= 0 then\n",
    "        Match i\n",
    "    else\n",
    "        let iNext = ~~~i\n",
    "        if iNext = 0 then\n",
    "            BeforeFirst\n",
    "        elif iNext = values.Length then\n",
    "            AfterLast (iNext-1)\n",
    "        else\n",
    "            Between (iNext-1, iNext)\n",
    "\n",
    "let binarySearch (x:'U) (values:'T[]) =\n",
    "    let i = Array.BinarySearch(values, x)\n",
    "    if i >= 0 then\n",
    "        Match i\n",
    "    else\n",
    "        let iNext = ~~~i\n",
    "        if iNext = 0 then\n",
    "            BeforeFirst\n",
    "        elif iNext = values.Length then\n",
    "            AfterLast (iNext-1)\n",
    "        else\n",
    "            Between (iNext-1, iNext)\n",
    "\n",
    "let applyMap (ranges: MapRange<'src, 'dst>[]) (src: int64<'src>) : int64<'dst> =\n",
    "    let index = binarySearchBy mapOrder src ranges\n",
    "    match index with\n",
    "    | BeforeFirst -> UMX.cast<'src,'dst>src\n",
    "    | AfterLast i\n",
    "    | Match i\n",
    "    | Between (i, _) -> \n",
    "        let range = ranges[i]\n",
    "        let offset = UMX.untag<'src>(src - range.SourceStart)\n",
    "        if offset < range.RangeSize then\n",
    "            range.DestinationStart + UMX.tag<'dst>offset\n",
    "        else\n",
    "            UMX.cast<'src,'dst>src\n"
   ]
  },
  {
   "cell_type": "code",
   "execution_count": 4,
   "metadata": {
    "dotnet_interactive": {
     "language": "fsharp"
    },
    "polyglot_notebook": {
     "kernelName": "fsharp"
    }
   },
   "outputs": [
    {
     "data": {
      "text/html": [
       "<div><div></div><div></div><div><strong>Installed Packages</strong><ul><li><span>FsUnit.Xunit, 5.6.1</span></li><li><span>Hedgehog, 0.13.0</span></li></ul></div></div>"
      ]
     },
     "metadata": {},
     "output_type": "display_data"
    }
   ],
   "source": [
    "#r \"nuget:Hedgehog\"\n",
    "#r \"nuget: FsUnit.Xunit\"\n",
    "\n",
    "open FsUnitTyped\n",
    "open Hedgehog\n",
    "\n",
    "property {\n",
    "    let! array = \n",
    "        Gen.int64 (Range.linear 0 100)\n",
    "        |> Gen.array (Range.linear 1 100) \n",
    "        |> Gen.map (fun arr -> Array.sort arr)\n",
    "\n",
    "    let! target = Gen.int64 (Range.linear 0 100)\n",
    "\n",
    "    let expected = binarySearch target array\n",
    "    let actual = binarySearchBy id target array\n",
    "\n",
    "    actual |> shouldEqual expected\n",
    "    \n",
    "    match actual with\n",
    "    | Match i -> array.[i] |> shouldEqual target\n",
    "    | BeforeFirst -> array[0] |> shouldBeGreaterThan target\n",
    "    | AfterLast i -> array.[i] |> shouldBeSmallerThan target\n",
    "    | Between (i1, i2) -> \n",
    "        array[i1] |> shouldBeSmallerThan target\n",
    "        array[i2] |> shouldBeGreaterThan target\n",
    "\n",
    "} |> Property.check"
   ]
  },
  {
   "cell_type": "code",
   "execution_count": 5,
   "metadata": {
    "dotnet_interactive": {
     "language": "fsharp"
    },
    "polyglot_notebook": {
     "kernelName": "fsharp"
    }
   },
   "outputs": [],
   "source": [
    "type Model = \n",
    "    {\n",
    "        Seeds : list<int64<seed>>\n",
    "        SeedToSoilMap : MapRange<seed, soil>[]\n",
    "        SoilToFertilizerMap : MapRange<soil, fertilizer>[]\n",
    "        FertilizerToWaterMap : MapRange<fertilizer, water>[]\n",
    "        WaterToLightMap : MapRange<water, light>[]\n",
    "        LightToTemperatureMap : MapRange<light, temperature>[]\n",
    "        TemperatureToHumidityMap : MapRange<temperature, humidity>[]\n",
    "        HumidityToLocationMap : MapRange<humidity, location>[]\n",
    "    }\n",
    "\n",
    "module Model =\n",
    "    let empty = \n",
    "        {\n",
    "            Seeds = []\n",
    "            SeedToSoilMap = [||]\n",
    "            SoilToFertilizerMap = [||]\n",
    "            FertilizerToWaterMap = [||]\n",
    "            WaterToLightMap = [||]\n",
    "            LightToTemperatureMap = [||]\n",
    "            TemperatureToHumidityMap = [||]\n",
    "            HumidityToLocationMap = [||]\n",
    "        }\n",
    "    \n",
    "    let applySection section model =\n",
    "        match section with\n",
    "        | SeedList seeds -> { model with Seeds = seeds }\n",
    "        | SeedToSoilMap map -> { model with SeedToSoilMap = map }\n",
    "        | SoilToFertilizerMap map -> { model with SoilToFertilizerMap = map }\n",
    "        | FertilizerToWaterMap map -> { model with FertilizerToWaterMap = map }\n",
    "        | WaterToLightMap map -> { model with WaterToLightMap = map }\n",
    "        | LightToTemperatureMap map -> { model with LightToTemperatureMap = map }\n",
    "        | TemperatureToHumidityMap map -> { model with TemperatureToHumidityMap = map }\n",
    "        | HumidityToLocationMap map -> { model with HumidityToLocationMap = map }\n",
    "\n",
    "    let fromSections sections =\n",
    "        sections |> List.fold (fun model section -> applySection section model) empty\n",
    "\n",
    "    let parse =\n",
    "        sections\n",
    "        |>> fromSections\n",
    "\n",
    "    let getLocation model (seed: int64<seed>) =\n",
    "        seed\n",
    "        |> applyMap model.SeedToSoilMap\n",
    "        |> applyMap model.SoilToFertilizerMap\n",
    "        |> applyMap model.FertilizerToWaterMap\n",
    "        |> applyMap model.WaterToLightMap\n",
    "        |> applyMap model.LightToTemperatureMap\n",
    "        |> applyMap model.TemperatureToHumidityMap\n",
    "        |> applyMap model.HumidityToLocationMap\n"
   ]
  },
  {
   "cell_type": "code",
   "execution_count": 6,
   "metadata": {
    "dotnet_interactive": {
     "language": "fsharp"
    },
    "polyglot_notebook": {
     "kernelName": "fsharp"
    }
   },
   "outputs": [],
   "source": [
    "match run seedList \"seeds: 79 14 55 13\\n\" with\n",
    "| ParserResult.Failure (msg,_,_) -> failwith msg\n",
    "| ParserResult.Success (section,_,_) ->\n",
    "    section |> shouldEqual (SeedList [79L<seed>; 14L<seed>; 55L<seed>; 13L<seed>])\n",
    "\n",
    "match run Model.parse \"seed-to-soil map:\\n50 98 2\\n52 50 48\\n\" with\n",
    "| ParserResult.Failure (msg,_,_) -> failwith msg\n",
    "| ParserResult.Success (model,_,_) ->\n",
    "    [79L<seed>; 14L<seed>; 55L<seed>; 13L<seed>]\n",
    "    |> List.map (applyMap model.SeedToSoilMap)\n",
    "    |> shouldEqual [81L<soil>; 14L<soil>; 57L<soil>; 13L<soil>]\n",
    "\n",
    "let testInput = \"\"\"seeds: 79 14 55 13\n",
    "\n",
    "seed-to-soil map:\n",
    "50 98 2\n",
    "52 50 48\n",
    "\n",
    "soil-to-fertilizer map:\n",
    "0 15 37\n",
    "37 52 2\n",
    "39 0 15\n",
    "\n",
    "fertilizer-to-water map:\n",
    "49 53 8\n",
    "0 11 42\n",
    "42 0 7\n",
    "57 7 4\n",
    "\n",
    "water-to-light map:\n",
    "88 18 7\n",
    "18 25 70\n",
    "\n",
    "light-to-temperature map:\n",
    "45 77 23\n",
    "81 45 19\n",
    "68 64 13\n",
    "\n",
    "temperature-to-humidity map:\n",
    "0 69 1\n",
    "1 0 69\n",
    "\n",
    "humidity-to-location map:\n",
    "60 56 37\n",
    "56 93 4\n",
    "\"\"\"\n",
    "\n",
    "match run Model.parse testInput with\n",
    "| ParserResult.Failure (msg,_,_) -> failwith msg\n",
    "| ParserResult.Success (model,_,_) ->\n",
    "    model.Seeds |> shouldEqual [79L<seed>; 14L<seed>; 55L<seed>; 13L<seed>]\n",
    "    \n",
    "    model.Seeds\n",
    "    |> List.map (Model.getLocation model)\n",
    "    |> shouldEqual [82L<location>; 43L<location>; 86L<location>; 35L<location>]\n"
   ]
  },
  {
   "cell_type": "code",
   "execution_count": 7,
   "metadata": {
    "dotnet_interactive": {
     "language": "fsharp"
    },
    "polyglot_notebook": {
     "kernelName": "fsharp"
    }
   },
   "outputs": [
    {
     "name": "stdout",
     "output_type": "stream",
     "text": [
      "Result: 31599214\n"
     ]
    }
   ],
   "source": [
    "open System.IO\n",
    "let input = File.ReadAllText \"input_05.txt\"\n",
    "\n",
    "let result = \n",
    "    match run Model.parse input with\n",
    "    | ParserResult.Failure (msg,_,_) -> failwith msg\n",
    "    | ParserResult.Success (model,_,_) ->\n",
    "        model.Seeds\n",
    "        |> List.map (Model.getLocation model)\n",
    "        |> List.min\n",
    "\n",
    "printfn \"Result: %d\" result \n",
    "result |> shouldEqual 31599214L<location> // In case I break it"
   ]
  },
  {
   "cell_type": "markdown",
   "metadata": {},
   "source": [
    "## Part 2"
   ]
  },
  {
   "cell_type": "code",
   "execution_count": 11,
   "metadata": {
    "dotnet_interactive": {
     "language": "fsharp"
    },
    "polyglot_notebook": {
     "kernelName": "fsharp"
    }
   },
   "outputs": [],
   "source": [
    "let reinterpretSeedList (seeds: int64<seed> list) =\n",
    "    seeds\n",
    "    |> List.pairwise\n",
    "    |> List.indexed\n",
    "    |> Seq.choose (\n",
    "        fun (i,(a,b)) -> \n",
    "            if i % 2 = 1 then\n",
    "                None\n",
    "            else\n",
    "                Some (a, UMX.untag b)\n",
    "    )\n",
    "\n",
    "let applyMap2 tryGetCached setCached (ranges: MapRange<'src, 'dst>[]) (src: int64<'src>) : int64<'dst> =\n",
    "    let index = \n",
    "        match tryGetCached src with\n",
    "        | Some i -> i\n",
    "        | None -> binarySearchBy mapOrder src ranges\n",
    "    setCached index\n",
    "    match index with\n",
    "    | BeforeFirst -> UMX.cast<'src,'dst>src\n",
    "    | AfterLast i\n",
    "    | Match i\n",
    "    | Between (i, _) -> \n",
    "        let range = ranges[i]\n",
    "        let offset = UMX.untag<'src>(src - range.SourceStart)\n",
    "        if offset < range.RangeSize then\n",
    "            range.DestinationStart + UMX.tag<'dst>offset\n",
    "        else\n",
    "            UMX.cast<'src,'dst>src    \n",
    "\n",
    "let calcResult2 model = \n",
    "    let mutable minValue = UMX.tag<location>Int64.MaxValue\n",
    "    for (start, length) in (reinterpretSeedList model.Seeds) do\n",
    "        let mutable remaining = length\n",
    "        let mutable current = start\n",
    "        while remaining > 0L do\n",
    "            let location = Model.getLocation model current\n",
    "            if location < minValue then\n",
    "                minValue <- location\n",
    "            remaining <- remaining - 1L\n",
    "            current <- current + 1L<seed>\n",
    "\n",
    "    minValue\n"
   ]
  },
  {
   "cell_type": "code",
   "execution_count": 12,
   "metadata": {
    "dotnet_interactive": {
     "language": "fsharp"
    },
    "polyglot_notebook": {
     "kernelName": "fsharp"
    }
   },
   "outputs": [],
   "source": [
    "let result2 = \n",
    "    match run Model.parse input with\n",
    "    | ParserResult.Failure (msg,_,_) -> failwith msg\n",
    "    | ParserResult.Success (model,_,_) ->\n",
    "        calcResult2 model // 52 min!"
   ]
  },
  {
   "cell_type": "code",
   "execution_count": 13,
   "metadata": {
    "dotnet_interactive": {
     "language": "fsharp"
    },
    "polyglot_notebook": {
     "kernelName": "fsharp"
    }
   },
   "outputs": [
    {
     "name": "stdout",
     "output_type": "stream",
     "text": [
      "Result2: 20358599\n"
     ]
    }
   ],
   "source": [
    "printfn \"Result2: %d\" result2\n",
    "result2 |> shouldEqual 20358599L<location> // In case I break it"
   ]
  }
 ],
 "metadata": {
  "kernelspec": {
   "display_name": ".NET (C#)",
   "language": "C#",
   "name": ".net-csharp"
  },
  "language_info": {
   "name": "polyglot-notebook"
  },
  "polyglot_notebook": {
   "kernelInfo": {
    "defaultKernelName": "csharp",
    "items": [
     {
      "aliases": [],
      "name": "csharp"
     },
     {
      "aliases": [],
      "languageName": "fsharp",
      "name": "fsharp"
     }
    ]
   }
  }
 },
 "nbformat": 4,
 "nbformat_minor": 2
}
