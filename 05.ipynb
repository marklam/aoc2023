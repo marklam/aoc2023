{
 "cells": [
  {
   "cell_type": "markdown",
   "metadata": {},
   "source": [
    "# Day 5\n",
    "## Part 1"
   ]
  },
  {
   "cell_type": "code",
   "execution_count": 1,
   "metadata": {
    "dotnet_interactive": {
     "language": "fsharp"
    },
    "polyglot_notebook": {
     "kernelName": "fsharp"
    }
   },
   "outputs": [
    {
     "data": {
      "text/html": [
       "<div><div></div><div></div><div><strong>Installed Packages</strong><ul><li><span>FSharp.UMX, 1.1.0</span></li></ul></div></div>"
      ]
     },
     "metadata": {},
     "output_type": "display_data"
    }
   ],
   "source": [
    "#r \"nuget: FSharp.UMX\"\n",
    "\n",
    "open FSharp.UMX\n",
    "\n",
    "type [<Measure>] seed\n",
    "type [<Measure>] soil\n",
    "type [<Measure>] fertilizer\n",
    "type [<Measure>] water\n",
    "type [<Measure>] light\n",
    "type [<Measure>] temperature\n",
    "type [<Measure>] humidity\n",
    "type [<Measure>] location\n",
    "\n",
    "type MapRange<[<Measure>]'source, [<Measure>]'destination> = \n",
    "    { DestinationStart : int<'destination>; SourceStart : int<'source>; RangeSize : int }\n",
    "\n",
    "type InputSection =\n",
    "    | SeedList of list<int<seed>>\n",
    "    | SeedToSoilMap of MapRange<seed, soil>[]\n",
    "    | SoilToFertilizerMap of MapRange<soil, fertilizer>[]\n",
    "    | FertilizerToWaterMap of MapRange<fertilizer, water>[]\n",
    "    | WaterToLightMap of MapRange<water, light>[]\n",
    "    | LightToTemperatureMap of MapRange<light, temperature>[]\n",
    "    | TemperatureToHumidityMap of MapRange<temperature, humidity>[]\n",
    "    | HumidityToLocationMap of MapRange<humidity, location>[]\n",
    "\n"
   ]
  },
  {
   "cell_type": "code",
   "execution_count": 11,
   "metadata": {
    "dotnet_interactive": {
     "language": "fsharp"
    },
    "polyglot_notebook": {
     "kernelName": "fsharp"
    }
   },
   "outputs": [
    {
     "data": {
      "text/html": [
       "<div><div></div><div></div><div><strong>Installed Packages</strong><ul><li><span>FParsec, 1.1.1</span></li></ul></div></div>"
      ]
     },
     "metadata": {},
     "output_type": "display_data"
    }
   ],
   "source": [
    "#r \"nuget:FParsec\"\n",
    "\n",
    "open FParsec\n",
    "\n",
    "let space = pchar ' '\n",
    "let newline = pchar '\\n'\n",
    "let int_list = sepBy pint32 space\n",
    "let seedList = \n",
    "    (pstring \"seeds: \" >>. int_list .>> newline)\n",
    "    |>> List.map UMX.tag<seed>\n",
    "    |>> SeedList\n",
    "\n",
    "let inline map_line<[<Measure>]'source, [<Measure>]'destination> = \n",
    "    pint32 .>> space .>>. pint32 .>> space .>>. pint32\n",
    "    |>> fun ((a,b),c) -> { DestinationStart = UMX.tag<'destination> a; SourceStart = UMX.tag<'source> b; RangeSize = c }\n",
    "\n",
    "let inline sortMap (ranges : MapRange<'source, 'destination> list) = \n",
    "    ranges\n",
    "    |> List.sortBy (fun r -> r.SourceStart)\n",
    "    |> Array.ofList\n",
    "\n",
    "let seedToSoil = \n",
    "    (pstring \"seed-to-soil map:\" >>. newline >>. sepEndBy1 map_line<seed,soil> newline)\n",
    "    |>> (sortMap >> SeedToSoilMap)\n",
    "\n",
    "let soilToFertilizer = \n",
    "    (pstring \"soil-to-fertilizer map:\" >>. newline >>. sepEndBy1 map_line<soil, fertilizer> newline)\n",
    "    |>> (sortMap >> SoilToFertilizerMap)\n",
    "\n",
    "let fertilizerToWater = \n",
    "    (pstring \"fertilizer-to-water map:\" >>. newline >>. sepEndBy1 map_line<fertilizer, water> newline)\n",
    "    |>> (sortMap >> FertilizerToWaterMap)\n",
    "\n",
    "let waterToLight =\n",
    "    (pstring \"water-to-light map:\" >>. newline >>. sepEndBy1 map_line<water, light> newline)\n",
    "    |>> (sortMap >> WaterToLightMap)\n",
    "\n",
    "let lightToTemperature =\n",
    "    (pstring \"light-to-temperature map:\" >>. newline >>. sepEndBy1 map_line<light, temperature> newline)\n",
    "    |>> (sortMap >> LightToTemperatureMap)\n",
    "\n",
    "let temperatureToHumidity =\n",
    "    (pstring \"temperature-to-humidity map:\" >>. newline >>. sepEndBy1 map_line<temperature, humidity> newline)\n",
    "    |>> (sortMap >> TemperatureToHumidityMap)\n",
    "\n",
    "let humidityToLocation =\n",
    "    (pstring \"humidity-to-location map:\" >>. newline >>. sepEndBy1 map_line<humidity, location> newline)\n",
    "    |>> (sortMap >> HumidityToLocationMap)\n",
    "\n",
    "let section =\n",
    "    seedList <|>\n",
    "    seedToSoil <|>\n",
    "    soilToFertilizer <|>\n",
    "    fertilizerToWater <|>\n",
    "    waterToLight <|>\n",
    "    lightToTemperature <|>\n",
    "    temperatureToHumidity <|>\n",
    "    humidityToLocation\n",
    "\n",
    "let sections : Parser<InputSection list, unit> = sepBy section newline\n"
   ]
  },
  {
   "cell_type": "code",
   "execution_count": null,
   "metadata": {
    "dotnet_interactive": {
     "language": "fsharp"
    },
    "polyglot_notebook": {
     "kernelName": "fsharp"
    }
   },
   "outputs": [],
   "source": [
    "open System\n",
    "open System.Collections\n",
    "\n",
    "type BinarySearchIndex = | Match of int | BeforeFirst | AfterLast of int | Between of int * int\n",
    "\n",
    "let binarySearchBy<'T,'U when 'U :> IComparable<'U>> (sel : 'T -> 'U) (x:'U) (values:'T[]) =\n",
    "    let compare = System.Collections.Generic.GenericComparer.Default.Compare\n",
    "    let comparer = { new IComparer with member __.Compare(a, b) = compare (a :?> 'T |> sel, x) }\n",
    "    let i = Array.BinarySearch(values, x, comparer)\n",
    "    if i >= 0 then\n",
    "        Match i\n",
    "    else\n",
    "        let iNext = ~~~i\n",
    "        if iNext = 0 then\n",
    "            BeforeFirst\n",
    "        elif iNext = values.Length then\n",
    "            AfterLast (iNext-1)\n",
    "        else\n",
    "            Between (iNext-1, iNext)\n",
    "\n",
    "let applyMap (ranges: MapRange<'src, 'dst>[]) (src: int<'src>) : int<'dst> =\n",
    "    let index = binarySearchBy (fun r -> r.SourceStart) src ranges\n",
    "    match index with\n",
    "    | BeforeFirst -> UMX.cast<'src,'dst>src\n",
    "    | AfterLast i\n",
    "    | Match i\n",
    "    | Between (i, _) -> \n",
    "        let range = ranges[i]\n",
    "        let offset = UMX.untag<'src>(src - range.SourceStart)\n",
    "        if offset < range.RangeSize then\n",
    "            range.DestinationStart + UMX.tag<'dst>offset\n",
    "        else\n",
    "            UMX.cast<'src,'dst>src\n"
   ]
  },
  {
   "cell_type": "code",
   "execution_count": 12,
   "metadata": {
    "dotnet_interactive": {
     "language": "fsharp"
    },
    "polyglot_notebook": {
     "kernelName": "fsharp"
    }
   },
   "outputs": [],
   "source": [
    "type Model = \n",
    "    {\n",
    "        Seeds : list<int<seed>>\n",
    "        SeedToSoilMap : MapRange<seed, soil>[]\n",
    "        SoilToFertilizerMap : MapRange<soil, fertilizer>[]\n",
    "        FertilizerToWaterMap : MapRange<fertilizer, water>[]\n",
    "        WaterToLightMap : MapRange<water, light>[]\n",
    "        LightToTemperatureMap : MapRange<light, temperature>[]\n",
    "        TemperatureToHumidityMap : MapRange<temperature, humidity>[]\n",
    "        HumidityToLocationMap : MapRange<humidity, location>[]\n",
    "    }\n",
    "\n",
    "module Model =\n",
    "    let empty = \n",
    "        {\n",
    "            Seeds = []\n",
    "            SeedToSoilMap = [||]\n",
    "            SoilToFertilizerMap = [||]\n",
    "            FertilizerToWaterMap = [||]\n",
    "            WaterToLightMap = [||]\n",
    "            LightToTemperatureMap = [||]\n",
    "            TemperatureToHumidityMap = [||]\n",
    "            HumidityToLocationMap = [||]\n",
    "        }\n",
    "    \n",
    "    let applySection section model =\n",
    "        match section with\n",
    "        | SeedList seeds -> { model with Seeds = seeds }\n",
    "        | SeedToSoilMap map -> { model with SeedToSoilMap = map }\n",
    "        | SoilToFertilizerMap map -> { model with SoilToFertilizerMap = map }\n",
    "        | FertilizerToWaterMap map -> { model with FertilizerToWaterMap = map }\n",
    "        | WaterToLightMap map -> { model with WaterToLightMap = map }\n",
    "        | LightToTemperatureMap map -> { model with LightToTemperatureMap = map }\n",
    "        | TemperatureToHumidityMap map -> { model with TemperatureToHumidityMap = map }\n",
    "        | HumidityToLocationMap map -> { model with HumidityToLocationMap = map }\n",
    "\n",
    "    let fromSections sections =\n",
    "        sections |> List.fold (fun model section -> applySection section model) empty\n",
    "\n",
    "    let parse =\n",
    "        sections\n",
    "        |>> fromSections\n",
    "\n",
    "    let getLocation model (seed: int<seed>) =\n",
    "        seed\n",
    "        |> applyMap model.SeedToSoilMap\n",
    "        |> applyMap model.SoilToFertilizerMap\n",
    "        |> applyMap model.FertilizerToWaterMap\n",
    "        |> applyMap model.WaterToLightMap\n",
    "        |> applyMap model.LightToTemperatureMap\n",
    "        |> applyMap model.TemperatureToHumidityMap\n",
    "        |> applyMap model.HumidityToLocationMap\n"
   ]
  },
  {
   "cell_type": "code",
   "execution_count": 17,
   "metadata": {
    "dotnet_interactive": {
     "language": "fsharp"
    },
    "polyglot_notebook": {
     "kernelName": "fsharp"
    }
   },
   "outputs": [
    {
     "data": {
      "text/html": [
       "<div><div></div><div></div><div><strong>Installed Packages</strong><ul><li><span>FsUnit.Xunit, 5.6.1</span></li></ul></div></div>"
      ]
     },
     "metadata": {},
     "output_type": "display_data"
    },
    {
     "ename": "Error",
     "evalue": "Xunit.Sdk.EqualException: Assert.Equal() Failure: Values differ\r\nExpected: Equals [81; 43; 86; 35]\r\nActual:   [82; 43; 86; 35]\r\n   at FsUnit.Xunit.raiseEqualException@16[b](StringDescription description, String value) in D:\\github\\repos\\FsUnit\\src\\FsUnit.Xunit\\FsUnit.fs:line 17\r\n   at FsUnit.Xunit.Assert.That.Static[a](a actual, IMatcher`1 matcher) in D:\\github\\repos\\FsUnit\\src\\FsUnit.Xunit\\FsUnit.fs:line 27\r\n   at FsUnitTyped.TopLevelOperators.shouldEqual[a](a expected, a actual) in D:\\github\\repos\\FsUnit\\src\\FsUnit.Xunit\\FsUnitTyped.fs:line 14\r\n   at <StartupCode$FSI_0040>.$FSI_0040.main@()\r\n   at System.RuntimeMethodHandle.InvokeMethod(Object target, Void** arguments, Signature sig, Boolean isConstructor)\r\n   at System.Reflection.MethodBaseInvoker.InvokeWithNoArgs(Object obj, BindingFlags invokeAttr)",
     "output_type": "error",
     "traceback": [
      "Xunit.Sdk.EqualException: Assert.Equal() Failure: Values differ\r\n",
      "Expected: Equals [81; 43; 86; 35]\r\n",
      "Actual:   [82; 43; 86; 35]\r\n",
      "   at FsUnit.Xunit.raiseEqualException@16[b](StringDescription description, String value) in D:\\github\\repos\\FsUnit\\src\\FsUnit.Xunit\\FsUnit.fs:line 17\r\n",
      "   at FsUnit.Xunit.Assert.That.Static[a](a actual, IMatcher`1 matcher) in D:\\github\\repos\\FsUnit\\src\\FsUnit.Xunit\\FsUnit.fs:line 27\r\n",
      "   at FsUnitTyped.TopLevelOperators.shouldEqual[a](a expected, a actual) in D:\\github\\repos\\FsUnit\\src\\FsUnit.Xunit\\FsUnitTyped.fs:line 14\r\n",
      "   at <StartupCode$FSI_0040>.$FSI_0040.main@()\r\n",
      "   at System.RuntimeMethodHandle.InvokeMethod(Object target, Void** arguments, Signature sig, Boolean isConstructor)\r\n",
      "   at System.Reflection.MethodBaseInvoker.InvokeWithNoArgs(Object obj, BindingFlags invokeAttr)"
     ]
    }
   ],
   "source": [
    "#r \"nuget: FsUnit.Xunit\"\n",
    "\n",
    "open FsUnitTyped\n",
    "\n",
    "match run seedList \"seeds: 79 14 55 13\\n\" with\n",
    "| Failure (msg,_,_) -> failwith msg\n",
    "| Success (section,_,_) ->\n",
    "    section |> shouldEqual (SeedList [79<seed>; 14<seed>; 55<seed>; 13<seed>])\n",
    "\n",
    "match run Model.parse \"seed-to-soil map:\\n50 98 2\\n52 50 48\\n\" with\n",
    "| Failure (msg,_,_) -> failwith msg\n",
    "| Success (model,_,_) ->\n",
    "    [79<seed>; 14<seed>; 55<seed>; 13<seed>]\n",
    "    |> List.map (applyMap model.SeedToSoilMap)\n",
    "    |> shouldEqual [81<soil>; 14<soil>; 57<soil>; 13<soil>]\n",
    "\n",
    "let testInput = \"\"\"seeds: 79 14 55 13\n",
    "\n",
    "seed-to-soil map:\n",
    "50 98 2\n",
    "52 50 48\n",
    "\n",
    "soil-to-fertilizer map:\n",
    "0 15 37\n",
    "37 52 2\n",
    "39 0 15\n",
    "\n",
    "fertilizer-to-water map:\n",
    "49 53 8\n",
    "0 11 42\n",
    "42 0 7\n",
    "57 7 4\n",
    "\n",
    "water-to-light map:\n",
    "88 18 7\n",
    "18 25 70\n",
    "\n",
    "light-to-temperature map:\n",
    "45 77 23\n",
    "81 45 19\n",
    "68 64 13\n",
    "\n",
    "temperature-to-humidity map:\n",
    "0 69 1\n",
    "1 0 69\n",
    "\n",
    "humidity-to-location map:\n",
    "60 56 37\n",
    "56 93 4\n",
    "\"\"\"\n",
    "\n",
    "match run Model.parse testInput with\n",
    "| Failure (msg,_,_) -> failwith msg\n",
    "| Success (model,_,_) ->\n",
    "    model.Seeds |> shouldEqual [79<seed>; 14<seed>; 55<seed>; 13<seed>]\n",
    "    \n",
    "    model.Seeds\n",
    "    |> List.map (Model.getLocation model)\n",
    "    |> shouldEqual [82<location>; 43<location>; 86<location>; 35<location>]\n"
   ]
  }
 ],
 "metadata": {
  "kernelspec": {
   "display_name": ".NET (C#)",
   "language": "C#",
   "name": ".net-csharp"
  },
  "language_info": {
   "name": "polyglot-notebook"
  },
  "polyglot_notebook": {
   "kernelInfo": {
    "defaultKernelName": "csharp",
    "items": [
     {
      "aliases": [],
      "name": "csharp"
     },
     {
      "aliases": [],
      "languageName": "fsharp",
      "name": "fsharp"
     }
    ]
   }
  }
 },
 "nbformat": 4,
 "nbformat_minor": 2
}
