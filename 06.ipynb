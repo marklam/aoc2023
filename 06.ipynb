{
 "cells": [
  {
   "cell_type": "markdown",
   "metadata": {},
   "source": [
    "# Day 6\n",
    "## Part 1"
   ]
  },
  {
   "cell_type": "markdown",
   "metadata": {},
   "source": [
    "Let *t* be the time limit and *r* the distance record.\n",
    "\n",
    "Holding the button down for *h*, means the speed will be *h* for *t-h* duration,\n",
    "so the distance d will be $$h*(t-h)$$\n",
    "The limits for h where the distance will exceed r are where\n",
    "$$ h(t-h) = r $$\n",
    "or\n",
    "$$ -h^2+th-r = 0 $$\n",
    "In the quadratic formula $$\\frac{-b\\pm \\sqrt{b^2-4ac}}{2a}.$$\n",
    "a = -1, b = t, c = -r\n",
    "so\n",
    "$$\\frac{-t\\pm \\sqrt{t^2+-4r}}{-2}$$"
   ]
  },
  {
   "cell_type": "code",
   "execution_count": 18,
   "metadata": {
    "dotnet_interactive": {
     "language": "fsharp"
    },
    "polyglot_notebook": {
     "kernelName": "fsharp"
    }
   },
   "outputs": [],
   "source": [
    "let roundDown x = \n",
    "    if (x-floor x) = 0.0 then int x - 1 else int x\n",
    "\n",
    "let roundUp x =\n",
    "    if (x-floor x) = 0.0 then int x + 1 else int (ceil x)\n",
    "\n",
    "let limits t r =\n",
    "    let t = float t\n",
    "    let r = float r\n",
    "    let upper = (-t - sqrt(t*t - 4. * r)) / -2.\n",
    "    let lower = (-t + sqrt(t*t - 4. * r)) / -2.\n",
    "    let upper = roundDown upper\n",
    "    let lower = roundUp lower\n",
    "    (lower, upper)"
   ]
  },
  {
   "cell_type": "code",
   "execution_count": 19,
   "metadata": {
    "dotnet_interactive": {
     "language": "fsharp"
    },
    "polyglot_notebook": {
     "kernelName": "fsharp"
    }
   },
   "outputs": [],
   "source": [
    "let parseLine (line : string) =\n",
    "    let parts = line.Split([|':'; ' '|], StringSplitOptions.RemoveEmptyEntries)\n",
    "    parts |> Array.skip 1 |> Array.map int\n",
    "\n",
    "let races line1 line2 =\n",
    "    Array.map2 (fun t d -> {| Time = t; Distance = d |}) (parseLine line1) (parseLine line2)\n",
    "\n",
    "let options (lower, upper) = upper - lower + 1\n",
    "\n",
    "let score line1 line2 =\n",
    "    races line1 line2\n",
    "    |> Array.map (fun r -> limits r.Time r.Distance)\n",
    "    |> Array.map options\n",
    "    |> Array.fold (*) 1\n"
   ]
  },
  {
   "cell_type": "code",
   "execution_count": 20,
   "metadata": {
    "dotnet_interactive": {
     "language": "fsharp"
    },
    "polyglot_notebook": {
     "kernelName": "fsharp"
    }
   },
   "outputs": [
    {
     "data": {
      "text/html": [
       "<div><div></div><div></div><div><strong>Installed Packages</strong><ul><li><span>FsUnit.xUnit, 5.6.1</span></li></ul></div></div>"
      ]
     },
     "metadata": {},
     "output_type": "display_data"
    }
   ],
   "source": [
    "#r \"nuget: FsUnit.xUnit\"\n",
    "\n",
    "open FsUnitTyped\n",
    "\n",
    "parseLine \"Time:      7  15   30\" |> shouldEqual [|7; 15; 30|]\n",
    "parseLine \"Distance:  9  40  200\" |> shouldEqual [|9; 40; 200|]\n",
    "\n",
    "limits  7   9 |> shouldEqual (2, 5)\n",
    "limits 15  40 |> shouldEqual (4, 11)\n",
    "limits 30 200 |> shouldEqual (11, 19)\n",
    "\n",
    "score \"Time:      7  15   30\" \"Distance:  9  40  200\" |> shouldEqual 288\n"
   ]
  },
  {
   "cell_type": "code",
   "execution_count": 21,
   "metadata": {
    "dotnet_interactive": {
     "language": "fsharp"
    },
    "polyglot_notebook": {
     "kernelName": "fsharp"
    }
   },
   "outputs": [
    {
     "name": "stdout",
     "output_type": "stream",
     "text": [
      "Result 1: 500346\n"
     ]
    }
   ],
   "source": [
    "open System.IO\n",
    "\n",
    "let input = File.ReadAllLines \"input_06.txt\"\n",
    "let result1 = score input[0] input[1]\n",
    "printfn \"Result 1: %d\" result1"
   ]
  }
 ],
 "metadata": {
  "kernelspec": {
   "display_name": ".NET (F#)",
   "language": "F#",
   "name": ".net-fsharp"
  },
  "language_info": {
   "name": "polyglot-notebook"
  },
  "polyglot_notebook": {
   "kernelInfo": {
    "defaultKernelName": "fsharp",
    "items": [
     {
      "aliases": [],
      "languageName": "fsharp",
      "name": "fsharp"
     }
    ]
   }
  }
 },
 "nbformat": 4,
 "nbformat_minor": 2
}
