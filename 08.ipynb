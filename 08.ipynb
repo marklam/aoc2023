{
 "cells": [
  {
   "cell_type": "markdown",
   "metadata": {},
   "source": [
    "# Day 8\n",
    "## Part 1"
   ]
  },
  {
   "cell_type": "code",
   "execution_count": 19,
   "metadata": {
    "dotnet_interactive": {
     "language": "fsharp"
    },
    "polyglot_notebook": {
     "kernelName": "fsharp"
    }
   },
   "outputs": [],
   "source": [
    "type Direction = | Left | Right\n",
    "\n",
    "let parseDirections (s: string) : Direction list =\n",
    "    s \n",
    "    |> Seq.map (function\n",
    "        | 'L' -> Left\n",
    "        | 'R' -> Right\n",
    "        | _ -> failwith \"Invalid direction\"\n",
    "    ) |> Seq.toList\n",
    "\n",
    "type Node = { LeftName : string; RightName : string }\n",
    "\n",
    "let parseNode (s: string) (nodes: Map<string, Node>) =\n",
    "    let parts = s.Split(Seq.toArray \" =(),\", StringSplitOptions.RemoveEmptyEntries)\n",
    "    nodes\n",
    "    |> Map.add parts[0] { LeftName = parts[1]; RightName = parts[2] }\n",
    "\n",
    "let parseInput parseDirections parseNode inputLines =\n",
    "    let directions = parseDirections (Array.head inputLines)\n",
    "    let nodes =\n",
    "        inputLines\n",
    "        |> Array.skip 2\n",
    "        |> Array.fold (fun nodes line -> parseNode line nodes) Map.empty\n",
    "    (directions, nodes)\n",
    "\n",
    "let followDirection nodes currentNodeName direction =\n",
    "    let node = nodes |> Map.find currentNodeName\n",
    "    match direction with\n",
    "    | Left -> node.LeftName\n",
    "    | Right -> node.RightName\n",
    "\n",
    "let repeat xs = \n",
    "    seq {\n",
    "        while true do yield! xs\n",
    "    }\n",
    "\n",
    "let findEndpoint nodes startName endName directions =\n",
    "    repeat directions\n",
    "    |> Seq.scan (followDirection nodes) startName\n",
    "    |> Seq.takeWhile (fun name -> name <> endName)\n",
    "\n",
    "let countSteps findEnd =\n",
    "    findEnd\n",
    "    |> Seq.length // Not + 1 for the end position because this includes the starting position\n"
   ]
  },
  {
   "cell_type": "code",
   "execution_count": 20,
   "metadata": {
    "dotnet_interactive": {
     "language": "fsharp"
    },
    "polyglot_notebook": {
     "kernelName": "fsharp"
    }
   },
   "outputs": [
    {
     "data": {
      "text/html": [
       "<div><div></div><div></div><div><strong>Installed Packages</strong><ul><li><span>FsUnit.xUnit, 5.6.1</span></li></ul></div></div>"
      ]
     },
     "metadata": {},
     "output_type": "display_data"
    }
   ],
   "source": [
    "#r \"nuget: FsUnit.xUnit\"\n",
    "\n",
    "open FsUnitTyped\n",
    "\n",
    "let testData = \n",
    "    [|\n",
    "        \"LLR\"\n",
    "        \"\"\n",
    "        \"AAA = (BBB, BBB)\"\n",
    "        \"BBB = (AAA, ZZZ)\"\n",
    "        \"ZZZ = (ZZZ, ZZZ)\"\n",
    "    |]\n",
    "\n",
    "let testResult =\n",
    "    let (directions, nodes) = parseInput parseDirections parseNode testData\n",
    "    findEndpoint nodes \"AAA\" \"ZZZ\" directions\n",
    "    |> countSteps\n",
    "\n",
    "testResult |> shouldEqual 6"
   ]
  },
  {
   "cell_type": "code",
   "execution_count": 21,
   "metadata": {
    "dotnet_interactive": {
     "language": "fsharp"
    },
    "polyglot_notebook": {
     "kernelName": "fsharp"
    }
   },
   "outputs": [
    {
     "name": "stdout",
     "output_type": "stream",
     "text": [
      "Result 1 : 12169\n"
     ]
    }
   ],
   "source": [
    "open System.IO\n",
    "let input = File.ReadAllLines \"input_08.txt\"\n",
    "\n",
    "let result1 =\n",
    "    let (directions, nodes) = parseInput parseDirections parseNode input\n",
    "    findEndpoint nodes \"AAA\" \"ZZZ\" directions\n",
    "    |> countSteps\n",
    "printfn \"Result 1 : %d\" result1"
   ]
  }
 ],
 "metadata": {
  "kernelspec": {
   "display_name": ".NET (C#)",
   "language": "C#",
   "name": ".net-csharp"
  },
  "language_info": {
   "name": "polyglot-notebook"
  },
  "polyglot_notebook": {
   "kernelInfo": {
    "defaultKernelName": "csharp",
    "items": [
     {
      "aliases": [],
      "name": "csharp"
     },
     {
      "aliases": [],
      "languageName": "fsharp",
      "name": "fsharp"
     }
    ]
   }
  }
 },
 "nbformat": 4,
 "nbformat_minor": 2
}
