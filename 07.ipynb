{
 "cells": [
  {
   "cell_type": "markdown",
   "metadata": {},
   "source": [
    "# Day 7\n",
    "## Part 1"
   ]
  },
  {
   "cell_type": "code",
   "execution_count": 15,
   "metadata": {
    "dotnet_interactive": {
     "language": "fsharp"
    },
    "polyglot_notebook": {
     "kernelName": "fsharp"
    }
   },
   "outputs": [],
   "source": [
    "type HandType =\n",
    "    | FiveOfAKind  = 6\n",
    "    | FourOfAKind  = 5\n",
    "    | FullHouse    = 4\n",
    "    | ThreeOfAKind = 3\n",
    "    | TwoPair      = 2\n",
    "    | OnePair      = 1\n",
    "    | HighCard     = 0\n",
    "\n",
    "let orderedCards = \"23456789TJQKA\" |> Seq.toArray\n",
    "let scoreCard (card : char) =\n",
    "    Array.findIndex ((=) card) orderedCards\n",
    "\n",
    "let handType (hand:string) =\n",
    "    let distinctCards = hand |> Seq.countBy id |> List.ofSeq |> List.map snd |> List.sortDescending\n",
    "    match distinctCards with\n",
    "    | [5]         -> HandType.FiveOfAKind\n",
    "    | [4;1]       -> HandType.FourOfAKind\n",
    "    | [3;2]       -> HandType.FullHouse\n",
    "    | [3;1;1]     -> HandType.ThreeOfAKind\n",
    "    | [2;2;1]     -> HandType.TwoPair\n",
    "    | [2;1;1;1]   -> HandType.OnePair\n",
    "    | [1;1;1;1;1] -> HandType.HighCard\n",
    "    | _           -> raise (ArgumentException \"Invalid hand\")\n",
    "\n",
    "let handScore hand =\n",
    "    (handType hand), (hand |> Seq.map scoreCard |> List.ofSeq)\n"
   ]
  },
  {
   "cell_type": "code",
   "execution_count": 17,
   "metadata": {
    "dotnet_interactive": {
     "language": "fsharp"
    },
    "polyglot_notebook": {
     "kernelName": "fsharp"
    }
   },
   "outputs": [
    {
     "data": {
      "text/html": [
       "<div><div></div><div></div><div><strong>Installed Packages</strong><ul><li><span>FsUnit.xUnit, 5.6.1</span></li></ul></div></div>"
      ]
     },
     "metadata": {},
     "output_type": "display_data"
    }
   ],
   "source": [
    "#r \"nuget: FsUnit.xUnit\"\n",
    "\n",
    "open FsUnitTyped\n",
    "\n",
    "handType \"AAAAA\" |> shouldEqual HandType.FiveOfAKind\n",
    "handType \"AA8AA\" |> shouldEqual HandType.FourOfAKind\n",
    "handType \"23332\" |> shouldEqual HandType.FullHouse\n",
    "handType \"TTT98\" |> shouldEqual HandType.ThreeOfAKind\n",
    "handType \"23432\" |> shouldEqual HandType.TwoPair\n",
    "handType \"A23A4\" |> shouldEqual HandType.OnePair\n",
    "handType \"23456\" |> shouldEqual HandType.HighCard\n",
    "\n",
    "\"23456789TJQKA\" |> Seq.map scoreCard |> List.ofSeq |> shouldEqual [ 0; 1; 2; 3; 4; 5; 6; 7; 8; 9; 10; 11; 12 ]\n",
    "\n",
    "let testHands = \n",
    "    [\n",
    "        \"32T3K\"\n",
    "        \"T55J5\"\n",
    "        \"KK677\"\n",
    "        \"KTJJT\"\n",
    "        \"QQQJA\"\n",
    "    ]\n",
    "\n",
    "testHands |> List.sortByDescending handScore |> shouldEqual [\"QQQJA\"; \"T55J5\"; \"KK677\"; \"KTJJT\"; \"32T3K\"]\n",
    "\n"
   ]
  },
  {
   "cell_type": "code",
   "execution_count": 18,
   "metadata": {
    "dotnet_interactive": {
     "language": "fsharp"
    },
    "polyglot_notebook": {
     "kernelName": "fsharp"
    }
   },
   "outputs": [],
   "source": [
    "let scoreHands (hands:(string*int)[]) =\n",
    "    hands\n",
    "    |> Array.sortBy (fst >> handScore)\n",
    "    |> Array.mapi (fun i (hand, bid) -> (i+1)*bid)\n",
    "    |> Array.sum\n"
   ]
  },
  {
   "cell_type": "code",
   "execution_count": 19,
   "metadata": {
    "dotnet_interactive": {
     "language": "fsharp"
    },
    "polyglot_notebook": {
     "kernelName": "fsharp"
    }
   },
   "outputs": [],
   "source": [
    "[|\n",
    "    \"32T3K\", 765\n",
    "    \"T55J5\", 684\n",
    "    \"KK677\", 28\n",
    "    \"KTJJT\", 220\n",
    "    \"QQQJA\", 483\n",
    "|]\n",
    "|> scoreHands |> shouldEqual 6440\n"
   ]
  }
 ],
 "metadata": {
  "kernelspec": {
   "display_name": ".NET (F#)",
   "language": "F#",
   "name": ".net-fsharp"
  },
  "language_info": {
   "name": "polyglot-notebook"
  },
  "polyglot_notebook": {
   "kernelInfo": {
    "defaultKernelName": "fsharp",
    "items": [
     {
      "aliases": [],
      "languageName": "fsharp",
      "name": "fsharp"
     }
    ]
   }
  }
 },
 "nbformat": 4,
 "nbformat_minor": 2
}
