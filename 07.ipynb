{
 "cells": [
  {
   "cell_type": "markdown",
   "metadata": {},
   "source": [
    "# Day 7\n",
    "## Part 1"
   ]
  },
  {
   "cell_type": "code",
   "execution_count": 1,
   "metadata": {
    "dotnet_interactive": {
     "language": "fsharp"
    },
    "polyglot_notebook": {
     "kernelName": "fsharp"
    }
   },
   "outputs": [],
   "source": [
    "type HandType =\n",
    "    | FiveOfAKind  = 6\n",
    "    | FourOfAKind  = 5\n",
    "    | FullHouse    = 4\n",
    "    | ThreeOfAKind = 3\n",
    "    | TwoPair      = 2\n",
    "    | OnePair      = 1\n",
    "    | HighCard     = 0\n",
    "\n",
    "let orderedCards = \"23456789TJQKA\" |> Seq.toArray\n",
    "let scoreCard (card : char) =\n",
    "    Array.findIndex ((=) card) orderedCards\n",
    "\n",
    "let handType (hand:string) =\n",
    "    let distinctCards = hand |> Seq.countBy id |> List.ofSeq |> List.map snd |> List.sortDescending\n",
    "    match distinctCards with\n",
    "    | [5]         -> HandType.FiveOfAKind\n",
    "    | [4;1]       -> HandType.FourOfAKind\n",
    "    | [3;2]       -> HandType.FullHouse\n",
    "    | [3;1;1]     -> HandType.ThreeOfAKind\n",
    "    | [2;2;1]     -> HandType.TwoPair\n",
    "    | [2;1;1;1]   -> HandType.OnePair\n",
    "    | [1;1;1;1;1] -> HandType.HighCard\n",
    "    | _           -> raise (ArgumentException \"Invalid hand\")\n",
    "\n",
    "let handScore hand =\n",
    "    (handType hand), (hand |> Seq.map scoreCard |> List.ofSeq)\n"
   ]
  },
  {
   "cell_type": "code",
   "execution_count": 2,
   "metadata": {
    "dotnet_interactive": {
     "language": "fsharp"
    },
    "polyglot_notebook": {
     "kernelName": "fsharp"
    }
   },
   "outputs": [
    {
     "data": {
      "text/html": [
       "<div><div></div><div></div><div><strong>Installed Packages</strong><ul><li><span>FsUnit.xUnit, 5.6.1</span></li></ul></div></div>"
      ]
     },
     "metadata": {},
     "output_type": "display_data"
    }
   ],
   "source": [
    "#r \"nuget: FsUnit.xUnit\"\n",
    "\n",
    "open FsUnitTyped\n",
    "\n",
    "handType \"AAAAA\" |> shouldEqual HandType.FiveOfAKind\n",
    "handType \"AA8AA\" |> shouldEqual HandType.FourOfAKind\n",
    "handType \"23332\" |> shouldEqual HandType.FullHouse\n",
    "handType \"TTT98\" |> shouldEqual HandType.ThreeOfAKind\n",
    "handType \"23432\" |> shouldEqual HandType.TwoPair\n",
    "handType \"A23A4\" |> shouldEqual HandType.OnePair\n",
    "handType \"23456\" |> shouldEqual HandType.HighCard\n",
    "\n",
    "\"23456789TJQKA\" |> Seq.map scoreCard |> List.ofSeq |> shouldEqual [ 0; 1; 2; 3; 4; 5; 6; 7; 8; 9; 10; 11; 12 ]\n",
    "\n",
    "let testHands = \n",
    "    [\n",
    "        \"32T3K\"\n",
    "        \"T55J5\"\n",
    "        \"KK677\"\n",
    "        \"KTJJT\"\n",
    "        \"QQQJA\"\n",
    "    ]\n",
    "\n",
    "testHands |> List.sortByDescending handScore |> shouldEqual [\"QQQJA\"; \"T55J5\"; \"KK677\"; \"KTJJT\"; \"32T3K\"]\n",
    "\n"
   ]
  },
  {
   "cell_type": "code",
   "execution_count": 3,
   "metadata": {
    "dotnet_interactive": {
     "language": "fsharp"
    },
    "polyglot_notebook": {
     "kernelName": "fsharp"
    }
   },
   "outputs": [],
   "source": [
    "let scoreHands (hands:(string*int)[]) =\n",
    "    hands\n",
    "    |> Array.sortBy (fst >> handScore)\n",
    "    |> Array.mapi (fun i (hand, bid) -> (i+1)*bid)\n",
    "    |> Array.sum\n",
    "\n",
    "let parseHand (hand:string) =\n",
    "    let bits = hand.Split(' ')\n",
    "    (bits[0], int bits[1])"
   ]
  },
  {
   "cell_type": "code",
   "execution_count": 4,
   "metadata": {
    "dotnet_interactive": {
     "language": "fsharp"
    },
    "polyglot_notebook": {
     "kernelName": "fsharp"
    }
   },
   "outputs": [],
   "source": [
    "[|\n",
    "    \"32T3K\", 765\n",
    "    \"T55J5\", 684\n",
    "    \"KK677\", 28\n",
    "    \"KTJJT\", 220\n",
    "    \"QQQJA\", 483\n",
    "|]\n",
    "|> scoreHands |> shouldEqual 6440\n"
   ]
  },
  {
   "cell_type": "code",
   "execution_count": 5,
   "metadata": {
    "dotnet_interactive": {
     "language": "fsharp"
    },
    "polyglot_notebook": {
     "kernelName": "fsharp"
    }
   },
   "outputs": [],
   "source": [
    "open System.IO\n",
    "\n",
    "let input = File.ReadAllLines(\"input_07.txt\")\n",
    "\n",
    "let result1 = \n",
    "    input \n",
    "    |> Array.map parseHand \n",
    "    |> scoreHands\n",
    "    "
   ]
  },
  {
   "cell_type": "code",
   "execution_count": 6,
   "metadata": {
    "dotnet_interactive": {
     "language": "fsharp"
    },
    "polyglot_notebook": {
     "kernelName": "fsharp"
    }
   },
   "outputs": [
    {
     "name": "stdout",
     "output_type": "stream",
     "text": [
      "Result 1: 246409899\n"
     ]
    }
   ],
   "source": [
    "printfn \"Result 1: %d\" result1\n",
    "result1 |> shouldEqual 246409899 // In case I break it"
   ]
  },
  {
   "cell_type": "markdown",
   "metadata": {},
   "source": [
    "## Part 2"
   ]
  },
  {
   "cell_type": "code",
   "execution_count": 7,
   "metadata": {
    "dotnet_interactive": {
     "language": "fsharp"
    },
    "polyglot_notebook": {
     "kernelName": "fsharp"
    }
   },
   "outputs": [],
   "source": [
    "let orderedCards2 = \"J23456789TQKA\" |> Seq.toArray\n",
    "let scoreCard2 (card : char) =\n",
    "    Array.findIndex ((=) card) orderedCards2\n",
    "\n",
    "let handType2 (hand:string) =\n",
    "    let cardCounts = hand |> Seq.countBy id |> List.ofSeq\n",
    "    let jokers = \n",
    "        cardCounts \n",
    "        |> List.tryFind (fun (card, count) -> card = 'J') \n",
    "        |> Option.map snd \n",
    "        |> Option.defaultValue 0\n",
    "    let distinctCards =  cardCounts |> List.map snd |> List.sortDescending\n",
    "    match distinctCards, jokers with\n",
    "    | [5],_         -> HandType.FiveOfAKind\n",
    "    | [4;1],0       -> HandType.FourOfAKind\n",
    "    | [4;1],1       -> HandType.FiveOfAKind\n",
    "    | [4;1],4       -> HandType.FiveOfAKind\n",
    "    | [4;1],_       -> failwith \"Invalid hand\"\n",
    "    | [3;2],0       -> HandType.FullHouse\n",
    "    | [3;2],2       -> HandType.FiveOfAKind\n",
    "    | [3;2],3       -> HandType.FiveOfAKind\n",
    "    | [3;2],_       -> failwith \"Invalid hand\"\n",
    "    | [3;1;1],0     -> HandType.ThreeOfAKind\n",
    "    | [3;1;1],1     -> HandType.FourOfAKind\n",
    "    | [3;1;1],3     -> HandType.FourOfAKind\n",
    "    | [3;1;1],_     -> failwith \"Invalid hand\"\n",
    "    | [2;2;1],0     -> HandType.TwoPair\n",
    "    | [2;2;1],1     -> HandType.FullHouse\n",
    "    | [2;2;1],2     -> HandType.FourOfAKind\n",
    "    | [2;2;1],_     -> failwith \"Invalid hand\"\n",
    "    | [2;1;1;1],0   -> HandType.OnePair\n",
    "    | [2;1;1;1],1   -> HandType.ThreeOfAKind\n",
    "    | [2;1;1;1],2   -> HandType.ThreeOfAKind\n",
    "    | [2;1;1;1],_   -> failwith \"Invalid hand\"\n",
    "    | [1;1;1;1;1],0 -> HandType.HighCard\n",
    "    | [1;1;1;1;1],1 -> HandType.OnePair\n",
    "    | _,_           -> failwith \"Invalid hand\"\n",
    "\n",
    "let handScore2 hand =\n",
    "    (handType2 hand), (hand |> Seq.map scoreCard2 |> List.ofSeq)   \n",
    "\n",
    "let scoreHands2 (hands:(string*int)[]) =\n",
    "    hands\n",
    "    |> Array.sortBy (fst >> handScore2)\n",
    "    |> Array.mapi (fun i (hand, bid) -> (i+1)*bid)\n",
    "    |> Array.sum     "
   ]
  },
  {
   "cell_type": "code",
   "execution_count": 9,
   "metadata": {
    "dotnet_interactive": {
     "language": "fsharp"
    },
    "polyglot_notebook": {
     "kernelName": "fsharp"
    }
   },
   "outputs": [],
   "source": [
    "[|\n",
    "    \"32T3K\", 765\n",
    "    \"T55J5\", 684\n",
    "    \"KK677\", 28\n",
    "    \"KTJJT\", 220\n",
    "    \"QQQJA\", 483\n",
    "|]\n",
    "|> scoreHands2 |> shouldEqual 5905"
   ]
  },
  {
   "cell_type": "code",
   "execution_count": 10,
   "metadata": {
    "dotnet_interactive": {
     "language": "fsharp"
    },
    "polyglot_notebook": {
     "kernelName": "fsharp"
    }
   },
   "outputs": [
    {
     "name": "stdout",
     "output_type": "stream",
     "text": [
      "Result 2: 244848487\n"
     ]
    }
   ],
   "source": [
    "let result2 = \n",
    "    input \n",
    "    |> Array.map parseHand \n",
    "    |> scoreHands2\n",
    "\n",
    "printfn \"Result 2: %d\" result2\n",
    "result2 |> shouldEqual 244848487 // In case I break it"
   ]
  }
 ],
 "metadata": {
  "kernelspec": {
   "display_name": ".NET (F#)",
   "language": "F#",
   "name": ".net-fsharp"
  },
  "language_info": {
   "name": "polyglot-notebook"
  },
  "polyglot_notebook": {
   "kernelInfo": {
    "defaultKernelName": "fsharp",
    "items": [
     {
      "aliases": [],
      "languageName": "fsharp",
      "name": "fsharp"
     }
    ]
   }
  }
 },
 "nbformat": 4,
 "nbformat_minor": 2
}
