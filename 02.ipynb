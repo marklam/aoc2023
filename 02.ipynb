{
 "cells": [
  {
   "cell_type": "markdown",
   "metadata": {},
   "source": [
    "# Day 2\n",
    "## Part 1"
   ]
  },
  {
   "cell_type": "code",
   "execution_count": 6,
   "metadata": {
    "dotnet_interactive": {
     "language": "fsharp"
    },
    "polyglot_notebook": {
     "kernelName": "fsharp"
    }
   },
   "outputs": [],
   "source": [
    "type Game =\n",
    "    {\n",
    "        ID : int\n",
    "        Batches : Map<string, int> list\n",
    "    }\n",
    "\n",
    "let parseBlocks (blocks : string) =\n",
    "    let splits = blocks.Split([| ' ' |], StringSplitOptions.RemoveEmptyEntries)\n",
    "    splits[1], int splits[0]\n",
    "\n",
    "let parseDraw (draw : string) =\n",
    "    let splits = draw.Split [| ',' |]\n",
    "    splits |> Seq.map parseBlocks |> Map.ofSeq\n",
    "\n",
    "let parseGame (game : string) =\n",
    "    let splits = game.Split [| ':'; ';' |]\n",
    "    let gameID = splits[0].Split [| ' ' |] |> Array.last |> int\n",
    "    let batches = splits |> Seq.tail |> Seq.map parseDraw |> Seq.toList\n",
    "    { ID = gameID; Batches = batches }"
   ]
  },
  {
   "cell_type": "code",
   "execution_count": 17,
   "metadata": {
    "dotnet_interactive": {
     "language": "fsharp"
    },
    "polyglot_notebook": {
     "kernelName": "fsharp"
    }
   },
   "outputs": [],
   "source": [
    "let maximums = Map [\"red\", 12; \"green\", 13; \"blue\", 14]\n",
    "let isValid game =\n",
    "    game.Batches \n",
    "    |> List.forall (\n",
    "        fun batch ->\n",
    "            batch \n",
    "            |> Map.forall (fun k v -> v <= maximums[k])\n",
    "    )\n"
   ]
  },
  {
   "cell_type": "code",
   "execution_count": 31,
   "metadata": {
    "dotnet_interactive": {
     "language": "fsharp"
    },
    "polyglot_notebook": {
     "kernelName": "fsharp"
    }
   },
   "outputs": [
    {
     "data": {
      "text/html": [
       "<div><div></div><div></div><div><strong>Installed Packages</strong><ul><li><span>FsUnit.xUnit, 5.6.1</span></li></ul></div></div>"
      ]
     },
     "metadata": {},
     "output_type": "display_data"
    }
   ],
   "source": [
    "#r \"nuget:FsUnit.xUnit\"\n",
    "open FsUnitTyped\n",
    "\n",
    "let gameLines = \n",
    "    [\n",
    "        \"Game 1: 3 blue, 4 red; 1 red, 2 green, 6 blue; 2 green\"\n",
    "        \"Game 2: 1 blue, 2 green; 3 green, 4 blue, 1 red; 1 green, 1 blue\"\n",
    "        \"Game 3: 8 green, 6 blue, 20 red; 5 blue, 4 red, 13 green; 5 green, 1 red\"\n",
    "        \"Game 4: 1 green, 3 red, 6 blue; 3 green, 6 red; 3 green, 15 blue, 14 red\"\n",
    "        \"Game 5: 6 red, 1 blue, 3 green; 2 blue, 1 red, 2 green\"\n",
    "    ]\n",
    "\n",
    "let validGames =\n",
    "    gameLines \n",
    "    |> List.map parseGame \n",
    "    |> List.filter isValid\n",
    "\n",
    "let validSum =\n",
    "    validGames\n",
    "    |> List.sumBy (fun game -> game.ID)\n",
    "\n",
    "validSum |> shouldEqual 8\n"
   ]
  },
  {
   "cell_type": "code",
   "execution_count": 35,
   "metadata": {
    "dotnet_interactive": {
     "language": "fsharp"
    },
    "polyglot_notebook": {
     "kernelName": "fsharp"
    }
   },
   "outputs": [],
   "source": [
    "open System.IO\n",
    "let input = File.ReadAllLines \"input_02.txt\"\n",
    "\n",
    "let inputGames =\n",
    "    input \n",
    "    |> Array.map parseGame \n",
    "\n",
    "let result =\n",
    "    inputGames\n",
    "    |> Array.filter isValid\n",
    "    |> Array.sumBy (fun game -> game.ID)\n"
   ]
  },
  {
   "cell_type": "code",
   "execution_count": 34,
   "metadata": {
    "dotnet_interactive": {
     "language": "fsharp"
    },
    "polyglot_notebook": {
     "kernelName": "fsharp"
    }
   },
   "outputs": [
    {
     "name": "stdout",
     "output_type": "stream",
     "text": [
      "Part 1: 2283\n"
     ]
    }
   ],
   "source": [
    "printfn \"Part 1: %d\" result\n",
    "result |> shouldEqual 2283 // In case I break it"
   ]
  },
  {
   "cell_type": "markdown",
   "metadata": {},
   "source": [
    "## Part 2"
   ]
  },
  {
   "cell_type": "code",
   "execution_count": 28,
   "metadata": {
    "dotnet_interactive": {
     "language": "fsharp"
    },
    "polyglot_notebook": {
     "kernelName": "fsharp"
    }
   },
   "outputs": [],
   "source": [
    "let power (game : Game) =\n",
    "    game.Batches\n",
    "    |> List.collect (Map.toList)\n",
    "    |> List.groupBy fst\n",
    "    |> List.map (fun (k, v) -> k, v |> List.map snd |> List.max)\n",
    "    |> List.fold (fun acc (k,count) -> acc * count) 1\n"
   ]
  },
  {
   "cell_type": "code",
   "execution_count": 32,
   "metadata": {
    "dotnet_interactive": {
     "language": "fsharp"
    },
    "polyglot_notebook": {
     "kernelName": "fsharp"
    }
   },
   "outputs": [],
   "source": [
    "let testPowers =    \n",
    "    gameLines \n",
    "    |> List.map parseGame \n",
    "    |> List.map power\n",
    "\n",
    "testPowers |> shouldEqual [48; 12; 1560; 630; 36]"
   ]
  },
  {
   "cell_type": "code",
   "execution_count": 37,
   "metadata": {
    "dotnet_interactive": {
     "language": "fsharp"
    },
    "polyglot_notebook": {
     "kernelName": "fsharp"
    }
   },
   "outputs": [],
   "source": [
    "let result2 =\n",
    "    inputGames\n",
    "    |> Array.sumBy power"
   ]
  },
  {
   "cell_type": "code",
   "execution_count": 40,
   "metadata": {
    "dotnet_interactive": {
     "language": "fsharp"
    },
    "polyglot_notebook": {
     "kernelName": "fsharp"
    }
   },
   "outputs": [
    {
     "name": "stdout",
     "output_type": "stream",
     "text": [
      "Part 2: 78669\n"
     ]
    }
   ],
   "source": [
    "printfn \"Part 2: %d\" result2\n",
    "result2 |> shouldEqual 78669 // In case I break it\n"
   ]
  }
 ],
 "metadata": {
  "kernelspec": {
   "display_name": ".NET (F#)",
   "language": "F#",
   "name": ".net-fsharp"
  },
  "language_info": {
   "name": "polyglot-notebook"
  },
  "polyglot_notebook": {
   "kernelInfo": {
    "defaultKernelName": "fsharp",
    "items": [
     {
      "aliases": [],
      "languageName": "fsharp",
      "name": "fsharp"
     }
    ]
   }
  }
 },
 "nbformat": 4,
 "nbformat_minor": 2
}
