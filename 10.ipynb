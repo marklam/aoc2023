{
 "cells": [
  {
   "cell_type": "code",
   "execution_count": 10,
   "metadata": {
    "dotnet_interactive": {
     "language": "fsharp"
    },
    "polyglot_notebook": {
     "kernelName": "fsharp"
    }
   },
   "outputs": [],
   "source": [
    "open System\n",
    "\n",
    "type Connections = { SortedJoins : ((int*int) * (int*int)) list; Start : (int*int) option }\n",
    "\n",
    "module Connections = \n",
    "    let empty = { SortedJoins = List.empty; Start = None }\n",
    "\n",
    "    let add (end1 : int*int, end2 : int*int) connections =\n",
    "        let a = min end1 end2\n",
    "        let b = max end1 end2\n",
    "        { connections with SortedJoins = (a,b)::connections.SortedJoins }\n",
    "\n",
    "    let getConnections xy connections =\n",
    "        connections.SortedJoins\n",
    "        |> List.filter (fun (a,b) -> a=xy || b=xy)\n",
    "\n",
    "    let getDestinations xy connections =\n",
    "        connections.SortedJoins\n",
    "        |> List.choose (\n",
    "            fun (a,b) -> \n",
    "                if a=xy then \n",
    "                    Some b\n",
    "                elif b=xy then\n",
    "                    Some a\n",
    "                else\n",
    "                    None\n",
    "        )\n",
    "\n",
    "module PipeMap =\n",
    "    let addPiece connections ((x, y), piece) =\n",
    "        let here = (x,y)\n",
    "        let west = (x-1,y)\n",
    "        let east = (x+1,y)\n",
    "        let north = (x,y-1)\n",
    "        let south = (x,y+1)\n",
    "        match piece with\n",
    "        | '.' -> \n",
    "            connections\n",
    "        | '|' ->\n",
    "            connections\n",
    "            |> Connections.add (north,here)\n",
    "            |> Connections.add (here,south)\n",
    "        | '-' ->\n",
    "            connections\n",
    "            |> Connections.add (west,here)\n",
    "            |> Connections.add (here,east)\n",
    "        | 'L' ->\n",
    "            connections\n",
    "            |> Connections.add (north,here)\n",
    "            |> Connections.add (here,east)\n",
    "        | 'J' ->\n",
    "            connections\n",
    "            |> Connections.add (north,here)\n",
    "            |> Connections.add (here,west)\n",
    "        | '7' ->\n",
    "            connections\n",
    "            |> Connections.add (here,west)\n",
    "            |> Connections.add (south,here)\n",
    "        | 'F' ->\n",
    "            connections\n",
    "            |> Connections.add (here,east)\n",
    "            |> Connections.add (south,here)\n",
    "        | 'S' ->\n",
    "            { connections with Start = Some here }\n",
    "        | _ ->\n",
    "            failwithf \"Unknown piece: %c\" piece\n",
    "    \n",
    "    let filterMismatched connections =\n",
    "        let connected = \n",
    "            connections.SortedJoins\n",
    "            |> List.countBy id\n",
    "            |> List.filter (fun (_,count) -> count = 2)\n",
    "            |> List.map fst\n",
    "        \n",
    "        let fromStart =\n",
    "            match connections.Start with\n",
    "            | None -> []\n",
    "            | Some start -> connections |> Connections.getConnections start\n",
    "        \n",
    "        { connections with SortedJoins = connected @ fromStart }\n",
    "    \n",
    "    let getSteps connections =\n",
    "        let rec nextStep xy visited =\n",
    "            let prevStep = visited |> List.tryHead\n",
    "            if Some xy = connections.Start && not (prevStep = None) then\n",
    "                xy::visited\n",
    "            else\n",
    "                let destinations = \n",
    "                    connections \n",
    "                    |> Connections.getDestinations xy\n",
    "                    |> List.filter (fun next -> not (Some next = prevStep))\n",
    "\n",
    "                match destinations with\n",
    "                | [] -> failwithf \"No destinations for %A\" xy\n",
    "                | next::_ -> nextStep next (xy::visited) \n",
    "\n",
    "        match connections.Start with\n",
    "        | None -> []\n",
    "        | Some start -> nextStep start []\n",
    "\n",
    "    let parseInput lines =\n",
    "        let height = Array.length lines\n",
    "        let width = Seq.length lines[0]\n",
    "\n",
    "        let chars = \n",
    "            lines\n",
    "            |> Seq.indexed\n",
    "            |> Seq.collect (\n",
    "                fun (y, line) ->\n",
    "                    line\n",
    "                    |> Seq.mapi (\n",
    "                        fun x piece ->\n",
    "                            (x,y), piece\n",
    "                    )\n",
    "            )\n",
    "\n",
    "        \n",
    "        chars\n",
    "        |> Seq.fold addPiece Connections.empty \n",
    "        |> filterMismatched\n",
    "\n",
    "let maxDistance connections =\n",
    "    let steps = PipeMap.getSteps connections\n",
    "    (steps |> List.length) / 2\n"
   ]
  },
  {
   "cell_type": "code",
   "execution_count": 12,
   "metadata": {
    "dotnet_interactive": {
     "language": "fsharp"
    },
    "polyglot_notebook": {
     "kernelName": "fsharp"
    }
   },
   "outputs": [
    {
     "data": {
      "text/html": [
       "<div><div></div><div></div><div><strong>Installed Packages</strong><ul><li><span>FsUnit.xUnit, 5.6.1</span></li></ul></div></div>"
      ]
     },
     "metadata": {},
     "output_type": "display_data"
    }
   ],
   "source": [
    "#r \"nuget:FsUnit.xUnit\"\n",
    "\n",
    "open FsUnitTyped\n",
    "\n",
    "let testInput =\n",
    "    [|\n",
    "        \"..F7.\"\n",
    "        \".FJ|.\"\n",
    "        \"SJ.L7\"\n",
    "        \"|F--J\"\n",
    "        \"LJ...\"\n",
    "    |]\n",
    "\n",
    "let testBoard = PipeMap.parseInput testInput\n",
    "maxDistance testBoard |> shouldEqual 8\n"
   ]
  }
 ],
 "metadata": {
  "kernelspec": {
   "display_name": ".NET (C#)",
   "language": "C#",
   "name": ".net-csharp"
  },
  "language_info": {
   "name": "polyglot-notebook"
  },
  "polyglot_notebook": {
   "kernelInfo": {
    "defaultKernelName": "csharp",
    "items": [
     {
      "aliases": [],
      "name": "csharp"
     },
     {
      "aliases": [],
      "languageName": "fsharp",
      "name": "fsharp"
     }
    ]
   }
  }
 },
 "nbformat": 4,
 "nbformat_minor": 2
}
