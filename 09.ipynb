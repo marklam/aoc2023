{
 "cells": [
  {
   "cell_type": "code",
   "execution_count": 16,
   "metadata": {
    "dotnet_interactive": {
     "language": "fsharp"
    },
    "polyglot_notebook": {
     "kernelName": "fsharp"
    }
   },
   "outputs": [],
   "source": [
    "let parseLine (line:string) =\n",
    "    line.Split(' ', StringSplitOptions.RemoveEmptyEntries)\n",
    "    |> Seq.map int\n",
    "    |> List.ofSeq\n",
    "\n",
    "let nextRow row =\n",
    "    row \n",
    "    |> List.pairwise\n",
    "    |> List.map (fun (a,b) -> b - a)\n",
    "\n",
    "let simplifyRow getNext row =\n",
    "    let rest =\n",
    "        row \n",
    "        |> List.unfold (\n",
    "            fun r -> \n",
    "                if r |> List.forall ((=) 0) then \n",
    "                    None\n",
    "                else\n",
    "                    let next = getNext r\n",
    "                    Some (next, next)\n",
    "        )\n",
    "    row::rest\n",
    "\n",
    "let extrapolatedRow rowBelow row = // below here means like the inverted pyramid in the description, the 'next' row.\n",
    "    let left = row |> List.last\n",
    "    let below = rowBelow |> List.last\n",
    "    row @ [left + below]\n",
    "\n",
    "let extrapolateAll extrapolate rows =\n",
    "    match rows |> List.rev with\n",
    "    | [] -> failwith \"empty list\"\n",
    "    | last::preceding ->\n",
    "        preceding \n",
    "        |> List.scan extrapolate  (last@[0])\n",
    "\n",
    "let extrapolatedValue extrapolatedRows =\n",
    "    extrapolatedRows\n",
    "    |> List.last\n",
    "    |> List.last\n"
   ]
  },
  {
   "cell_type": "code",
   "execution_count": 17,
   "metadata": {
    "dotnet_interactive": {
     "language": "fsharp"
    },
    "polyglot_notebook": {
     "kernelName": "fsharp"
    }
   },
   "outputs": [
    {
     "data": {
      "text/html": [
       "<div><div></div><div></div><div><strong>Installed Packages</strong><ul><li><span>FsUnit.xUnit, 5.6.1</span></li></ul></div></div>"
      ]
     },
     "metadata": {},
     "output_type": "display_data"
    },
    {
     "name": "stdout",
     "output_type": "stream",
     "text": [
      "[[0; 3; 6; 9; 12; 15]; [3; 3; 3; 3; 3]; [0; 0; 0; 0]]\n",
      "[[0; 0; 0; 0; 0]; [3; 3; 3; 3; 3; 3]; [0; 3; 6; 9; 12; 15; 18]]\n"
     ]
    }
   ],
   "source": [
    "#r \"nuget: FsUnit.xUnit\"\n",
    "\n",
    "open FsUnitTyped\n",
    "\n",
    "let test1 =\n",
    "    \"0   3   6   9  12  15\"\n",
    "    |> parseLine\n",
    "    |> simplifyRow nextRow\n",
    "\n",
    "test1 |> shouldEqual [ [0; 3; 6; 9; 12; 15]; [3; 3; 3; 3; 3]; [0; 0; 0; 0] ]\n",
    "\n",
    "printfn \"%A\" test1\n",
    "\n",
    "let extrapolated = extrapolateAll extrapolatedRow test1\n",
    "printfn \"%A\" extrapolated\n",
    "\n",
    "extrapolated |> extrapolatedValue |> shouldEqual 18"
   ]
  },
  {
   "cell_type": "code",
   "execution_count": 19,
   "metadata": {
    "dotnet_interactive": {
     "language": "fsharp"
    },
    "polyglot_notebook": {
     "kernelName": "fsharp"
    }
   },
   "outputs": [
    {
     "name": "stdout",
     "output_type": "stream",
     "text": [
      "Result 1 : 1934898178\n"
     ]
    }
   ],
   "source": [
    "open System.IO\n",
    "\n",
    "let input = File.ReadAllLines \"input_09.txt\"\n",
    "\n",
    "let result1 =\n",
    "    input \n",
    "    |> Array.sumBy (parseLine >> simplifyRow nextRow >> extrapolateAll extrapolatedRow >> extrapolatedValue)\n",
    "\n",
    "printfn \"Result 1 : %d\" result1\n",
    "result1 |> shouldEqual 1934898178 // In case I break it"
   ]
  }
 ],
 "metadata": {
  "kernelspec": {
   "display_name": ".NET (F#)",
   "language": "F#",
   "name": ".net-fsharp"
  },
  "language_info": {
   "name": "polyglot-notebook"
  },
  "polyglot_notebook": {
   "kernelInfo": {
    "defaultKernelName": "fsharp",
    "items": [
     {
      "aliases": [],
      "languageName": "fsharp",
      "name": "fsharp"
     }
    ]
   }
  }
 },
 "nbformat": 4,
 "nbformat_minor": 2
}
