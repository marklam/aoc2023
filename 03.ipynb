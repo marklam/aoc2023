{
 "cells": [
  {
   "cell_type": "markdown",
   "metadata": {},
   "source": [
    "# Day 3\n",
    "## Part 1"
   ]
  },
  {
   "cell_type": "code",
   "execution_count": 27,
   "metadata": {
    "dotnet_interactive": {
     "language": "fsharp"
    },
    "polyglot_notebook": {
     "kernelName": "fsharp"
    }
   },
   "outputs": [],
   "source": [
    "open System\n",
    "\n",
    "type NumberRun = { Row : int; StartIndex : int; EndIndex : int; Value : string }\n",
    "\n",
    "let numberRuns row line =\n",
    "    let rec numberRuns text index runs run =\n",
    "        match run with\n",
    "        | None ->\n",
    "            match text with\n",
    "            | [] -> runs\n",
    "            | c::rest ->\n",
    "                if Char.IsDigit c then\n",
    "                    numberRuns rest (index+1) runs (Some { Row = row; StartIndex = index; EndIndex = index; Value = string c })\n",
    "                else\n",
    "                    numberRuns rest (index+1) runs None\n",
    "        | Some run ->\n",
    "            match text with\n",
    "            | [] -> run :: runs\n",
    "            | c::rest ->\n",
    "                if Char.IsDigit c then\n",
    "                    numberRuns rest (index+1) runs (Some { run with EndIndex = index; Value = run.Value + string c })\n",
    "                else\n",
    "                    numberRuns rest (index+1) (run::runs) None\n",
    "    numberRuns (List.ofSeq line) 0 [] None\n",
    "\n",
    "type Symbol = { Row : int; Column : int; Value : char }\n",
    "\n",
    "let symbolPositions row line =\n",
    "    line \n",
    "    |> Seq.indexed \n",
    "    |> Seq.choose (fun (i, c) -> if not (c = '.' || Char.IsDigit c) then Some { Row = row; Column = i; Value = c } else None)\n",
    "    |> List.ofSeq\n",
    "\n",
    "let isAdjacent (number : NumberRun) (symbol : Symbol) =\n",
    "    match abs (number.Row - symbol.Row) with\n",
    "    | 0 ->\n",
    "        number.StartIndex = symbol.Column + 1 || number.EndIndex = symbol.Column - 1\n",
    "    | 1 ->\n",
    "        number.StartIndex - 1 <= symbol.Column && number.EndIndex + 1 >= symbol.Column\n",
    "    | _ -> false\n",
    "\n",
    "let allNumbers lines = lines |> Seq.mapi numberRuns |> Seq.concat |> List.ofSeq\n",
    "let allSymbols lines = lines |> Seq.mapi symbolPositions |> Seq.concat |> List.ofSeq\n",
    "\n",
    "let sumAttached lines =\n",
    "    let numbers = allNumbers lines\n",
    "    let symbols = allSymbols lines\n",
    "    let attached = numbers |> List.filter (fun n -> symbols |> List.exists (isAdjacent n)) \n",
    "    attached |> List.sumBy (fun n -> int n.Value)\n"
   ]
  },
  {
   "cell_type": "code",
   "execution_count": 28,
   "metadata": {
    "dotnet_interactive": {
     "language": "fsharp"
    },
    "polyglot_notebook": {
     "kernelName": "fsharp"
    }
   },
   "outputs": [
    {
     "data": {
      "text/html": [
       "<div><div></div><div></div><div><strong>Installed Packages</strong><ul><li><span>FsUnit.Xunit, 5.6.1</span></li></ul></div></div>"
      ]
     },
     "metadata": {},
     "output_type": "display_data"
    }
   ],
   "source": [
    "#r \"nuget:FsUnit.Xunit\"\n",
    "open FsUnitTyped\n",
    "\n",
    "let testData = \n",
    "    [\n",
    "        \"467..114..\"\n",
    "        \"...*......\"\n",
    "        \"..35..633.\"\n",
    "        \"......#...\"\n",
    "        \"617*......\"\n",
    "        \".....+.58.\"\n",
    "        \"..592.....\"\n",
    "        \"......755.\"\n",
    "        \"...$.*....\"\n",
    "        \".664.598..\"\n",
    "    ]\n",
    "\n",
    "let testResult = sumAttached testData\n",
    "testResult |> shouldEqual 4361"
   ]
  },
  {
   "cell_type": "code",
   "execution_count": 29,
   "metadata": {
    "dotnet_interactive": {
     "language": "fsharp"
    },
    "polyglot_notebook": {
     "kernelName": "fsharp"
    }
   },
   "outputs": [],
   "source": [
    "open System.IO\n",
    "let input = File.ReadAllLines \"input_03.txt\"\n",
    "\n",
    "let result1 =\n",
    "    input\n",
    "    |> sumAttached\n"
   ]
  },
  {
   "cell_type": "code",
   "execution_count": 33,
   "metadata": {
    "dotnet_interactive": {
     "language": "fsharp"
    },
    "polyglot_notebook": {
     "kernelName": "fsharp"
    }
   },
   "outputs": [
    {
     "name": "stdout",
     "output_type": "stream",
     "text": [
      "Part 1: 527369\n"
     ]
    }
   ],
   "source": [
    "printfn \"Part 1: %d\" result1\n",
    "result1 |> shouldEqual 527369 // In case I break it"
   ]
  },
  {
   "cell_type": "markdown",
   "metadata": {},
   "source": [
    "## Part 2"
   ]
  },
  {
   "cell_type": "code",
   "execution_count": 32,
   "metadata": {
    "dotnet_interactive": {
     "language": "fsharp"
    },
    "polyglot_notebook": {
     "kernelName": "fsharp"
    }
   },
   "outputs": [],
   "source": [
    "let sumGearRatios lines =\n",
    "    let numbers = allNumbers lines\n",
    "    let symbols = allSymbols lines\n",
    "    let gearRatios = \n",
    "        symbols \n",
    "        |> List.filter (fun s -> s.Value = '*')\n",
    "        |> List.map (fun gear -> numbers |> List.filter (fun number -> isAdjacent number gear))\n",
    "        |> List.choose (function | [x;y] -> Some (int x.Value * int y.Value) | _ -> None )\n",
    "\n",
    "    List.sum gearRatios\n"
   ]
  },
  {
   "cell_type": "code",
   "execution_count": 35,
   "metadata": {
    "dotnet_interactive": {
     "language": "fsharp"
    },
    "polyglot_notebook": {
     "kernelName": "fsharp"
    }
   },
   "outputs": [
    {
     "name": "stdout",
     "output_type": "stream",
     "text": [
      "Result2 = 73074886"
     ]
    }
   ],
   "source": [
    "let result2 = sumGearRatios input\n",
    "printf \"Result2 = %d\" result2\n",
    "result2 |> shouldEqual 73074886 // In case I break it\n"
   ]
  }
 ],
 "metadata": {
  "kernelspec": {
   "display_name": ".NET (F#)",
   "language": "F#",
   "name": ".net-fsharp"
  },
  "language_info": {
   "name": "polyglot-notebook"
  },
  "polyglot_notebook": {
   "kernelInfo": {
    "defaultKernelName": "fsharp",
    "items": [
     {
      "aliases": [],
      "languageName": "fsharp",
      "name": "fsharp"
     }
    ]
   }
  }
 },
 "nbformat": 4,
 "nbformat_minor": 2
}
