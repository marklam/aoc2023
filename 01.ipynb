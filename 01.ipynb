{
 "cells": [
  {
   "cell_type": "markdown",
   "metadata": {},
   "source": [
    "# Day 1\n",
    "## Part 1"
   ]
  },
  {
   "cell_type": "code",
   "execution_count": 23,
   "metadata": {
    "dotnet_interactive": {
     "language": "fsharp"
    },
    "polyglot_notebook": {
     "kernelName": "fsharp"
    }
   },
   "outputs": [],
   "source": [
    "open System\n",
    "\n",
    "let processLine (line:string) =\n",
    "    let digits = \n",
    "        line \n",
    "        |> Seq.filter Char.IsDigit\n",
    "        |> Array.ofSeq\n",
    "\n",
    "    String [| (Array.head digits); (Array.last digits) |]\n",
    "    |> int\n",
    "\n",
    "let totalLines lines =\n",
    "    lines\n",
    "    |> Seq.sumBy processLine   \n"
   ]
  },
  {
   "cell_type": "code",
   "execution_count": 24,
   "metadata": {
    "dotnet_interactive": {
     "language": "fsharp"
    },
    "polyglot_notebook": {
     "kernelName": "fsharp"
    }
   },
   "outputs": [
    {
     "data": {
      "text/html": [
       "<div><div></div><div></div><div><strong>Installed Packages</strong><ul><li><span>FsUnit.xUnit, 5.6.1</span></li></ul></div></div>"
      ]
     },
     "metadata": {},
     "output_type": "display_data"
    }
   ],
   "source": [
    "#r \"nuget:FsUnit.xUnit\"\n",
    "open FsUnitTyped\n",
    "\n",
    "processLine \"1abc2\"        |> shouldEqual 12\n",
    "processLine \"pqr3stu8vwx\"  |> shouldEqual 38\n",
    "processLine \"a1b2c3d4e5f\"  |> shouldEqual 15\n",
    "processLine \"treb7uchet\"   |> shouldEqual 77"
   ]
  },
  {
   "cell_type": "code",
   "execution_count": 25,
   "metadata": {
    "dotnet_interactive": {
     "language": "fsharp"
    },
    "polyglot_notebook": {
     "kernelName": "fsharp"
    }
   },
   "outputs": [
    {
     "name": "stdout",
     "output_type": "stream",
     "text": [
      "Result: 54561\n"
     ]
    }
   ],
   "source": [
    "open System.IO\n",
    "let input = File.ReadAllLines \"input_01.txt\"\n",
    "let result = totalLines input\n",
    "printfn \"Result: %d\" result\n"
   ]
  },
  {
   "cell_type": "code",
   "execution_count": 26,
   "metadata": {
    "dotnet_interactive": {
     "language": "fsharp"
    },
    "polyglot_notebook": {
     "kernelName": "fsharp"
    }
   },
   "outputs": [],
   "source": [
    "result |> shouldEqual 54561 // To make sure I don't break it"
   ]
  },
  {
   "cell_type": "markdown",
   "metadata": {},
   "source": [
    "## Part 2"
   ]
  },
  {
   "cell_type": "code",
   "execution_count": 31,
   "metadata": {
    "dotnet_interactive": {
     "language": "fsharp"
    },
    "polyglot_notebook": {
     "kernelName": "fsharp"
    }
   },
   "outputs": [],
   "source": [
    "let substitutions =\n",
    "    [\n",
    "        \"one\", '1'\n",
    "        \"two\", '2'\n",
    "        \"three\", '3'\n",
    "        \"four\", '4'\n",
    "        \"five\", '5'\n",
    "        \"six\", '6'\n",
    "        \"seven\", '7'\n",
    "        \"eight\", '8'\n",
    "        \"nine\", '9'\n",
    "        \"zero\", '0'\n",
    "    ]\n",
    "\n",
    "let processLine2 (line:string) =\n",
    "    let rec convert (line:string) acc =\n",
    "        if String.IsNullOrEmpty line then \n",
    "            acc\n",
    "        else\n",
    "            let first = line.[0]\n",
    "            let rest = line.Substring(1)\n",
    "\n",
    "            if Char.IsDigit first then\n",
    "                convert rest (first :: acc)\n",
    "            else\n",
    "                match substitutions |> List.tryFind (fun (s, _) -> line.StartsWith s) with\n",
    "                | Some (s, i) -> \n",
    "                    convert (line.Substring(s.Length)) (i::acc)\n",
    "                | None -> \n",
    "                    convert rest acc\n",
    "    \n",
    "    let revDigits = convert line []\n",
    "    String [| (List.last revDigits); (List.head revDigits) |]\n",
    "    |> int\n",
    "\n",
    "let totalLines2 lines =\n",
    "    lines\n",
    "    |> Seq.sumBy processLine2"
   ]
  },
  {
   "cell_type": "code",
   "execution_count": 32,
   "metadata": {
    "dotnet_interactive": {
     "language": "fsharp"
    },
    "polyglot_notebook": {
     "kernelName": "fsharp"
    }
   },
   "outputs": [],
   "source": [
    "processLine2 \"two1nine\"         |> shouldEqual 29\n",
    "processLine2 \"eightwothree\"     |> shouldEqual 83\n",
    "processLine2 \"abcone2threexyz\"  |> shouldEqual 13\n",
    "processLine2 \"xtwone3four\"      |> shouldEqual 24\n",
    "processLine2 \"4nineeightseven2\" |> shouldEqual 42\n",
    "processLine2 \"zoneight234\"      |> shouldEqual 14\n",
    "processLine2 \"7pqrstsixteen\"    |> shouldEqual 76"
   ]
  },
  {
   "cell_type": "code",
   "execution_count": 33,
   "metadata": {
    "dotnet_interactive": {
     "language": "fsharp"
    },
    "polyglot_notebook": {
     "kernelName": "fsharp"
    }
   },
   "outputs": [
    {
     "name": "stdout",
     "output_type": "stream",
     "text": [
      "Result: 54076\n"
     ]
    }
   ],
   "source": [
    "let result = totalLines2 input\n",
    "printfn \"Result: %d\" result"
   ]
  },
  {
   "cell_type": "code",
   "execution_count": 34,
   "metadata": {
    "dotnet_interactive": {
     "language": "fsharp"
    },
    "polyglot_notebook": {
     "kernelName": "fsharp"
    }
   },
   "outputs": [],
   "source": [
    "result |> shouldEqual 54076 // To make sure I don't break it"
   ]
  }
 ],
 "metadata": {
  "kernelspec": {
   "display_name": ".NET (F#)",
   "language": "F#",
   "name": ".net-fsharp"
  },
  "language_info": {
   "name": "polyglot-notebook"
  },
  "polyglot_notebook": {
   "kernelInfo": {
    "defaultKernelName": "fsharp",
    "items": [
     {
      "aliases": [],
      "languageName": "fsharp",
      "name": "fsharp"
     }
    ]
   }
  }
 },
 "nbformat": 4,
 "nbformat_minor": 2
}
